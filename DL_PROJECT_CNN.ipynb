{
  "nbformat": 4,
  "nbformat_minor": 0,
  "metadata": {
    "colab": {
      "provenance": [],
      "gpuType": "T4"
    },
    "kernelspec": {
      "name": "python3",
      "display_name": "Python 3"
    },
    "language_info": {
      "name": "python"
    },
    "accelerator": "GPU"
  },
  "cells": [
    {
      "cell_type": "code",
      "execution_count": 1,
      "metadata": {
        "id": "91qAIwwUGgUW"
      },
      "outputs": [],
      "source": [
        "import numpy as np\n",
        "import cv2\n",
        "from keras.callbacks import ModelCheckpoint,EarlyStopping\n",
        "from keras.layers import Conv2D, Flatten, MaxPooling2D,Dense,Dropout,SpatialDropout2D\n",
        "from keras.models  import Sequential\n",
        "from keras.preprocessing.image import ImageDataGenerator, img_to_array, load_img, array_to_img\n",
        "import random,os,glob\n",
        "import matplotlib.pyplot as plt"
      ]
    },
    {
      "cell_type": "code",
      "source": [
        "from google.colab import drive\n",
        "drive.mount('/content/drive')"
      ],
      "metadata": {
        "id": "0jNHCwpq53_D",
        "colab": {
          "base_uri": "https://localhost:8080/"
        },
        "outputId": "bfa6b997-5852-4209-dc92-084400f55fe4"
      },
      "execution_count": 2,
      "outputs": [
        {
          "output_type": "stream",
          "name": "stdout",
          "text": [
            "Mounted at /content/drive\n"
          ]
        }
      ]
    },
    {
      "cell_type": "code",
      "source": [
        "%cd /content/drive/MyDrive/Garbage classification"
      ],
      "metadata": {
        "id": "ijXR-2fC6Iui",
        "colab": {
          "base_uri": "https://localhost:8080/"
        },
        "outputId": "f877b422-24d4-48c7-dbb2-7455543315b6"
      },
      "execution_count": 3,
      "outputs": [
        {
          "output_type": "stream",
          "name": "stdout",
          "text": [
            "/content/drive/MyDrive/Garbage classification\n"
          ]
        }
      ]
    },
    {
      "cell_type": "code",
      "source": [
        "dir_path = \"/content/drive/MyDrive/Garbage classification\"\n",
        "img_list = glob.glob(os.path.join(dir_path, '*/*.jpg'))"
      ],
      "metadata": {
        "id": "bmzp9AhPPOqS"
      },
      "execution_count": 8,
      "outputs": []
    },
    {
      "cell_type": "code",
      "source": [
        "len(img_list)"
      ],
      "metadata": {
        "colab": {
          "base_uri": "https://localhost:8080/"
        },
        "id": "jcjfW75NPUuE",
        "outputId": "124f8341-4007-42f7-e30b-71339e0b8e5a"
      },
      "execution_count": 9,
      "outputs": [
        {
          "output_type": "execute_result",
          "data": {
            "text/plain": [
              "2537"
            ]
          },
          "metadata": {},
          "execution_count": 9
        }
      ]
    },
    {
      "cell_type": "code",
      "source": [
        "train=ImageDataGenerator(horizontal_flip=True,\n",
        "                         vertical_flip=True,\n",
        "                         validation_split=0.1,\n",
        "                         rescale=1./255,\n",
        "                         shear_range = 0.1,\n",
        "                         zoom_range = 0.1,\n",
        "                         width_shift_range = 0.1,\n",
        "                         height_shift_range = 0.1,)\n",
        "\n",
        "test=ImageDataGenerator(rescale=1/255,\n",
        "                        validation_split=0.1)\n",
        "\n",
        "train_generator=train.flow_from_directory(dir_path,\n",
        "                                          target_size=(300,300),\n",
        "                                          batch_size=32,\n",
        "                                          class_mode='categorical',\n",
        "                                          subset='training')\n",
        "\n",
        "test_generator=test.flow_from_directory(dir_path,\n",
        "                                        target_size=(300,300),\n",
        "                                        batch_size=32,\n",
        "                                        class_mode='categorical',\n",
        "                                        subset='validation')\n",
        "\n",
        "labels = (train_generator.class_indices)\n",
        "print(labels)\n",
        "\n",
        "labels = dict((v,k) for k,v in labels.items())\n",
        "print(labels)"
      ],
      "metadata": {
        "colab": {
          "base_uri": "https://localhost:8080/"
        },
        "id": "j8HdIJHpPW4N",
        "outputId": "fa2c54f2-bd16-4b6a-836d-9a0005471ba2"
      },
      "execution_count": 10,
      "outputs": [
        {
          "output_type": "stream",
          "name": "stdout",
          "text": [
            "Found 2285 images belonging to 6 classes.\n",
            "Found 252 images belonging to 6 classes.\n",
            "{'cardboard': 0, 'glass': 1, 'metal': 2, 'paper': 3, 'plastic': 4, 'trash': 5}\n",
            "{0: 'cardboard', 1: 'glass', 2: 'metal', 3: 'paper', 4: 'plastic', 5: 'trash'}\n"
          ]
        }
      ]
    },
    {
      "cell_type": "code",
      "source": [
        "for image_batch, label_batch in train_generator:\n",
        "  break\n",
        "image_batch.shape, label_batch.shape"
      ],
      "metadata": {
        "colab": {
          "base_uri": "https://localhost:8080/"
        },
        "id": "4Ftg9pvIPZQ8",
        "outputId": "60e2cd30-3389-4238-ebe1-1ebf55a1cdf5"
      },
      "execution_count": 11,
      "outputs": [
        {
          "output_type": "execute_result",
          "data": {
            "text/plain": [
              "((32, 300, 300, 3), (32, 6))"
            ]
          },
          "metadata": {},
          "execution_count": 11
        }
      ]
    },
    {
      "cell_type": "code",
      "source": [
        "print (train_generator.class_indices)\n",
        "\n",
        "Labels = '\\n'.join(sorted(train_generator.class_indices.keys()))\n",
        "\n",
        "with open('labels.txt', 'w') as f:\n",
        "  f.write(Labels)"
      ],
      "metadata": {
        "colab": {
          "base_uri": "https://localhost:8080/"
        },
        "id": "vnht3XcIPcL-",
        "outputId": "1e8e27c9-9a0b-4a15-b0fd-314f3881fc3a"
      },
      "execution_count": 12,
      "outputs": [
        {
          "output_type": "stream",
          "name": "stdout",
          "text": [
            "{'cardboard': 0, 'glass': 1, 'metal': 2, 'paper': 3, 'plastic': 4, 'trash': 5}\n"
          ]
        }
      ]
    },
    {
      "cell_type": "code",
      "source": [
        "model=Sequential()\n",
        "#Convolution blocks\n",
        "\n",
        "model.add(Conv2D(32,(3,3), padding='same',input_shape=(300,300,3),activation='relu'))\n",
        "model.add(MaxPooling2D(pool_size=2))\n",
        "#model.add(SpatialDropout2D(0.5)) # No accuracy\n",
        "\n",
        "model.add(Conv2D(64,(3,3), padding='same',activation='relu'))\n",
        "model.add(MaxPooling2D(pool_size=2))\n",
        "#model.add(SpatialDropout2D(0.5))\n",
        "\n",
        "model.add(Conv2D(32,(3,3), padding='same',activation='relu'))\n",
        "model.add(MaxPooling2D(pool_size=2))\n",
        "\n",
        "#Classification layers\n",
        "model.add(Flatten())\n",
        "\n",
        "model.add(Dense(64,activation='relu'))\n",
        "#model.add(SpatialDropout2D(0.5))\n",
        "model.add(Dropout(0.2))\n",
        "model.add(Dense(32,activation='relu'))\n",
        "\n",
        "model.add(Dropout(0.2))\n",
        "model.add(Dense(6,activation='softmax'))\n",
        "\n",
        "filepath=\"trained_model.h5\"\n",
        "checkpoint1 = ModelCheckpoint(filepath, monitor='val_acc', verbose=1, save_best_only=True, mode='max')\n",
        "callbacks_list = [checkpoint1]"
      ],
      "metadata": {
        "id": "lrEuzHp8PeEr"
      },
      "execution_count": 13,
      "outputs": []
    },
    {
      "cell_type": "code",
      "source": [
        "model.summary()"
      ],
      "metadata": {
        "colab": {
          "base_uri": "https://localhost:8080/"
        },
        "id": "5oWHo47ZPfgW",
        "outputId": "639f2ca6-28fc-4acc-db2b-50780a7b2aa6"
      },
      "execution_count": 14,
      "outputs": [
        {
          "output_type": "stream",
          "name": "stdout",
          "text": [
            "Model: \"sequential\"\n",
            "_________________________________________________________________\n",
            " Layer (type)                Output Shape              Param #   \n",
            "=================================================================\n",
            " conv2d (Conv2D)             (None, 300, 300, 32)      896       \n",
            "                                                                 \n",
            " max_pooling2d (MaxPooling2  (None, 150, 150, 32)      0         \n",
            " D)                                                              \n",
            "                                                                 \n",
            " conv2d_1 (Conv2D)           (None, 150, 150, 64)      18496     \n",
            "                                                                 \n",
            " max_pooling2d_1 (MaxPoolin  (None, 75, 75, 64)        0         \n",
            " g2D)                                                            \n",
            "                                                                 \n",
            " conv2d_2 (Conv2D)           (None, 75, 75, 32)        18464     \n",
            "                                                                 \n",
            " max_pooling2d_2 (MaxPoolin  (None, 37, 37, 32)        0         \n",
            " g2D)                                                            \n",
            "                                                                 \n",
            " flatten (Flatten)           (None, 43808)             0         \n",
            "                                                                 \n",
            " dense (Dense)               (None, 64)                2803776   \n",
            "                                                                 \n",
            " dropout (Dropout)           (None, 64)                0         \n",
            "                                                                 \n",
            " dense_1 (Dense)             (None, 32)                2080      \n",
            "                                                                 \n",
            " dropout_1 (Dropout)         (None, 32)                0         \n",
            "                                                                 \n",
            " dense_2 (Dense)             (None, 6)                 198       \n",
            "                                                                 \n",
            "=================================================================\n",
            "Total params: 2843910 (10.85 MB)\n",
            "Trainable params: 2843910 (10.85 MB)\n",
            "Non-trainable params: 0 (0.00 Byte)\n",
            "_________________________________________________________________\n"
          ]
        }
      ]
    },
    {
      "cell_type": "code",
      "source": [
        "model.compile(loss='categorical_crossentropy',\n",
        "              optimizer='adam',\n",
        "              metrics=['acc']) # RMS PROP - No accuracy\n",
        "\n",
        "#es=EarlyStopping(monitor='val_loss', mode='min', verbose=1, patience=50)"
      ],
      "metadata": {
        "id": "Wu_5GzgWPhPh"
      },
      "execution_count": 15,
      "outputs": []
    },
    {
      "cell_type": "code",
      "source": [
        "history = model.fit_generator(train_generator,\n",
        "                              epochs=50,\n",
        "                              steps_per_epoch=2276//32,\n",
        "                              validation_data=test_generator,\n",
        "                              validation_steps=251//32,\n",
        "                              workers = 4,\n",
        "                              callbacks=callbacks_list)\n",
        "#41 epoch - 75% #73- 76.9%\n",
        "#78 epoch - 80%"
      ],
      "metadata": {
        "colab": {
          "base_uri": "https://localhost:8080/"
        },
        "id": "NZ1x9yWGPjYu",
        "outputId": "adca49d3-49de-479d-fc7e-cb979e4c7d70"
      },
      "execution_count": null,
      "outputs": [
        {
          "metadata": {
            "tags": null
          },
          "name": "stderr",
          "output_type": "stream",
          "text": [
            "<ipython-input-16-c5662d20b819>:1: UserWarning: `Model.fit_generator` is deprecated and will be removed in a future version. Please use `Model.fit`, which supports generators.\n",
            "  history = model.fit_generator(train_generator,\n"
          ]
        },
        {
          "metadata": {
            "tags": null
          },
          "name": "stdout",
          "output_type": "stream",
          "text": [
            "Epoch 1/50\n",
            "71/71 [==============================] - ETA: 0s - loss: 1.7869 - acc: 0.2037\n",
            "Epoch 1: val_acc improved from -inf to 0.23214, saving model to trained_model.h5\n",
            "71/71 [==============================] - 371s 5s/step - loss: 1.7869 - acc: 0.2037 - val_loss: 1.7470 - val_acc: 0.2321\n"
          ]
        },
        {
          "metadata": {
            "tags": null
          },
          "name": "stderr",
          "output_type": "stream",
          "text": [
            "/usr/local/lib/python3.10/dist-packages/keras/src/engine/training.py:3079: UserWarning: You are saving your model as an HDF5 file via `model.save()`. This file format is considered legacy. We recommend using instead the native Keras format, e.g. `model.save('my_model.keras')`.\n",
            "  saving_api.save_model(\n"
          ]
        },
        {
          "output_type": "stream",
          "name": "stdout",
          "text": [
            "Epoch 2/50\n",
            "71/71 [==============================] - ETA: 0s - loss: 1.6992 - acc: 0.2503\n",
            "Epoch 2: val_acc improved from 0.23214 to 0.28571, saving model to trained_model.h5\n",
            "71/71 [==============================] - 65s 895ms/step - loss: 1.6992 - acc: 0.2503 - val_loss: 1.6082 - val_acc: 0.2857\n",
            "Epoch 3/50\n",
            "71/71 [==============================] - ETA: 0s - loss: 1.7191 - acc: 0.2375\n",
            "Epoch 3: val_acc did not improve from 0.28571\n",
            "71/71 [==============================] - 58s 774ms/step - loss: 1.7191 - acc: 0.2375 - val_loss: 1.6993 - val_acc: 0.2143\n",
            "Epoch 4/50\n",
            "71/71 [==============================] - ETA: 0s - loss: 1.7049 - acc: 0.2361\n",
            "Epoch 4: val_acc did not improve from 0.28571\n",
            "71/71 [==============================] - 57s 784ms/step - loss: 1.7049 - acc: 0.2361 - val_loss: 1.6877 - val_acc: 0.2500\n",
            "Epoch 5/50\n",
            "71/71 [==============================] - ETA: 0s - loss: 1.6412 - acc: 0.2854\n",
            "Epoch 5: val_acc improved from 0.28571 to 0.33929, saving model to trained_model.h5\n",
            "71/71 [==============================] - 57s 780ms/step - loss: 1.6412 - acc: 0.2854 - val_loss: 1.5484 - val_acc: 0.3393\n",
            "Epoch 6/50\n",
            "71/71 [==============================] - ETA: 0s - loss: 1.5536 - acc: 0.3662\n",
            "Epoch 6: val_acc improved from 0.33929 to 0.41071, saving model to trained_model.h5\n",
            "71/71 [==============================] - 61s 806ms/step - loss: 1.5536 - acc: 0.3662 - val_loss: 1.4861 - val_acc: 0.4107\n",
            "Epoch 7/50\n",
            "71/71 [==============================] - ETA: 0s - loss: 1.4530 - acc: 0.4123\n",
            "Epoch 7: val_acc improved from 0.41071 to 0.46429, saving model to trained_model.h5\n",
            "71/71 [==============================] - 58s 786ms/step - loss: 1.4530 - acc: 0.4123 - val_loss: 1.3884 - val_acc: 0.4643\n",
            "Epoch 8/50\n",
            "71/71 [==============================] - ETA: 0s - loss: 1.4085 - acc: 0.4336\n",
            "Epoch 8: val_acc did not improve from 0.46429\n",
            "71/71 [==============================] - 57s 776ms/step - loss: 1.4085 - acc: 0.4336 - val_loss: 1.3301 - val_acc: 0.4554\n",
            "Epoch 9/50\n",
            "71/71 [==============================] - ETA: 0s - loss: 1.3612 - acc: 0.4474\n",
            "Epoch 9: val_acc did not improve from 0.46429\n",
            "71/71 [==============================] - 57s 783ms/step - loss: 1.3612 - acc: 0.4474 - val_loss: 1.3409 - val_acc: 0.4554\n",
            "Epoch 10/50\n",
            "71/71 [==============================] - ETA: 0s - loss: 1.3365 - acc: 0.4576\n",
            "Epoch 10: val_acc did not improve from 0.46429\n",
            "71/71 [==============================] - 61s 831ms/step - loss: 1.3365 - acc: 0.4576 - val_loss: 1.3419 - val_acc: 0.4643\n",
            "Epoch 11/50\n",
            "71/71 [==============================] - ETA: 0s - loss: 1.3625 - acc: 0.4572\n",
            "Epoch 11: val_acc did not improve from 0.46429\n",
            "71/71 [==============================] - 63s 826ms/step - loss: 1.3625 - acc: 0.4572 - val_loss: 1.4202 - val_acc: 0.4062\n",
            "Epoch 12/50\n",
            "71/71 [==============================] - ETA: 0s - loss: 1.3560 - acc: 0.4465\n",
            "Epoch 12: val_acc did not improve from 0.46429\n",
            "71/71 [==============================] - 56s 752ms/step - loss: 1.3560 - acc: 0.4465 - val_loss: 1.3338 - val_acc: 0.4554\n",
            "Epoch 13/50\n",
            "71/71 [==============================] - ETA: 0s - loss: 1.2994 - acc: 0.4718\n",
            "Epoch 13: val_acc improved from 0.46429 to 0.51339, saving model to trained_model.h5\n",
            "71/71 [==============================] - 61s 839ms/step - loss: 1.2994 - acc: 0.4718 - val_loss: 1.2656 - val_acc: 0.5134\n",
            "Epoch 14/50\n",
            "71/71 [==============================] - ETA: 0s - loss: 1.3016 - acc: 0.4851\n",
            "Epoch 14: val_acc did not improve from 0.51339\n",
            "71/71 [==============================] - 58s 751ms/step - loss: 1.3016 - acc: 0.4851 - val_loss: 1.3838 - val_acc: 0.4062\n",
            "Epoch 15/50\n",
            "71/71 [==============================] - ETA: 0s - loss: 1.2950 - acc: 0.4785\n",
            "Epoch 15: val_acc did not improve from 0.51339\n",
            "71/71 [==============================] - 56s 767ms/step - loss: 1.2950 - acc: 0.4785 - val_loss: 1.2977 - val_acc: 0.4643\n",
            "Epoch 16/50\n",
            "71/71 [==============================] - ETA: 0s - loss: 1.2920 - acc: 0.4842\n",
            "Epoch 16: val_acc did not improve from 0.51339\n",
            "71/71 [==============================] - 55s 754ms/step - loss: 1.2920 - acc: 0.4842 - val_loss: 1.3475 - val_acc: 0.4420\n",
            "Epoch 17/50\n",
            "71/71 [==============================] - ETA: 0s - loss: 1.2645 - acc: 0.4962\n",
            "Epoch 17: val_acc did not improve from 0.51339\n",
            "71/71 [==============================] - 60s 825ms/step - loss: 1.2645 - acc: 0.4962 - val_loss: 1.3491 - val_acc: 0.4732\n",
            "Epoch 18/50\n",
            "71/71 [==============================] - ETA: 0s - loss: 1.2604 - acc: 0.5087\n",
            "Epoch 18: val_acc did not improve from 0.51339\n",
            "71/71 [==============================] - 60s 827ms/step - loss: 1.2604 - acc: 0.5087 - val_loss: 1.2652 - val_acc: 0.5045\n",
            "Epoch 19/50\n",
            "71/71 [==============================] - ETA: 0s - loss: 1.2900 - acc: 0.4807\n",
            "Epoch 19: val_acc did not improve from 0.51339\n",
            "71/71 [==============================] - 58s 746ms/step - loss: 1.2900 - acc: 0.4807 - val_loss: 1.2765 - val_acc: 0.4732\n",
            "Epoch 20/50\n",
            "71/71 [==============================] - ETA: 0s - loss: 1.2518 - acc: 0.4927\n",
            "Epoch 20: val_acc did not improve from 0.51339\n",
            "71/71 [==============================] - 60s 825ms/step - loss: 1.2518 - acc: 0.4927 - val_loss: 1.2735 - val_acc: 0.4911\n",
            "Epoch 21/50\n",
            "71/71 [==============================] - ETA: 0s - loss: 1.2319 - acc: 0.5064\n",
            "Epoch 21: val_acc did not improve from 0.51339\n",
            "71/71 [==============================] - 55s 757ms/step - loss: 1.2319 - acc: 0.5064 - val_loss: 1.2214 - val_acc: 0.4777\n",
            "Epoch 22/50\n",
            "71/71 [==============================] - ETA: 0s - loss: 1.1983 - acc: 0.5371\n",
            "Epoch 22: val_acc did not improve from 0.51339\n",
            "71/71 [==============================] - 60s 822ms/step - loss: 1.1983 - acc: 0.5371 - val_loss: 1.2884 - val_acc: 0.4732\n",
            "Epoch 23/50\n",
            "71/71 [==============================] - ETA: 0s - loss: 1.2217 - acc: 0.5118\n",
            "Epoch 23: val_acc improved from 0.51339 to 0.54464, saving model to trained_model.h5\n",
            "71/71 [==============================] - 62s 842ms/step - loss: 1.2217 - acc: 0.5118 - val_loss: 1.2097 - val_acc: 0.5446\n",
            "Epoch 24/50\n",
            "71/71 [==============================] - ETA: 0s - loss: 1.1809 - acc: 0.5366\n",
            "Epoch 24: val_acc did not improve from 0.54464\n",
            "71/71 [==============================] - 62s 813ms/step - loss: 1.1809 - acc: 0.5366 - val_loss: 1.2219 - val_acc: 0.4911\n",
            "Epoch 25/50\n",
            "71/71 [==============================] - ETA: 0s - loss: 1.1698 - acc: 0.5464\n",
            "Epoch 25: val_acc did not improve from 0.54464\n",
            "71/71 [==============================] - 56s 737ms/step - loss: 1.1698 - acc: 0.5464 - val_loss: 1.2465 - val_acc: 0.4821\n",
            "Epoch 26/50\n",
            "71/71 [==============================] - ETA: 0s - loss: 1.1463 - acc: 0.5637\n",
            "Epoch 26: val_acc did not improve from 0.54464\n",
            "71/71 [==============================] - 60s 795ms/step - loss: 1.1463 - acc: 0.5637 - val_loss: 1.2573 - val_acc: 0.4821\n",
            "Epoch 27/50\n",
            "71/71 [==============================] - ETA: 0s - loss: 1.1705 - acc: 0.5446\n",
            "Epoch 27: val_acc did not improve from 0.54464\n",
            "71/71 [==============================] - 57s 757ms/step - loss: 1.1705 - acc: 0.5446 - val_loss: 1.2290 - val_acc: 0.5045\n",
            "Epoch 28/50\n",
            "71/71 [==============================] - ETA: 0s - loss: 1.1306 - acc: 0.5619\n",
            "Epoch 28: val_acc improved from 0.54464 to 0.55357, saving model to trained_model.h5\n",
            "71/71 [==============================] - 60s 809ms/step - loss: 1.1306 - acc: 0.5619 - val_loss: 1.1477 - val_acc: 0.5536\n",
            "Epoch 29/50\n",
            "71/71 [==============================] - ETA: 0s - loss: 1.1297 - acc: 0.5628\n",
            "Epoch 29: val_acc did not improve from 0.55357\n",
            "71/71 [==============================] - 61s 793ms/step - loss: 1.1297 - acc: 0.5628 - val_loss: 1.1697 - val_acc: 0.5000\n",
            "Epoch 30/50\n",
            "71/71 [==============================] - ETA: 0s - loss: 1.1284 - acc: 0.5566\n",
            "Epoch 30: val_acc improved from 0.55357 to 0.56250, saving model to trained_model.h5\n",
            "71/71 [==============================] - 56s 743ms/step - loss: 1.1284 - acc: 0.5566 - val_loss: 1.1364 - val_acc: 0.5625\n",
            "Epoch 31/50\n",
            "71/71 [==============================] - ETA: 0s - loss: 1.0915 - acc: 0.5837\n",
            "Epoch 31: val_acc did not improve from 0.56250\n",
            "71/71 [==============================] - 54s 733ms/step - loss: 1.0915 - acc: 0.5837 - val_loss: 1.0810 - val_acc: 0.5536\n",
            "Epoch 32/50\n",
            "71/71 [==============================] - ETA: 0s - loss: 1.1022 - acc: 0.5894\n",
            "Epoch 32: val_acc did not improve from 0.56250\n",
            "71/71 [==============================] - 59s 789ms/step - loss: 1.1022 - acc: 0.5894 - val_loss: 1.1564 - val_acc: 0.5312\n",
            "Epoch 33/50\n",
            "71/71 [==============================] - ETA: 0s - loss: 1.0544 - acc: 0.6076\n",
            "Epoch 33: val_acc did not improve from 0.56250\n",
            "71/71 [==============================] - 59s 791ms/step - loss: 1.0544 - acc: 0.6076 - val_loss: 1.1895 - val_acc: 0.5446\n",
            "Epoch 34/50\n",
            "71/71 [==============================] - ETA: 0s - loss: 1.0589 - acc: 0.5961\n",
            "Epoch 34: val_acc did not improve from 0.56250\n",
            "71/71 [==============================] - 59s 788ms/step - loss: 1.0589 - acc: 0.5961 - val_loss: 1.0982 - val_acc: 0.5402\n",
            "Epoch 35/50\n",
            "71/71 [==============================] - ETA: 0s - loss: 1.0190 - acc: 0.6014\n",
            "Epoch 35: val_acc did not improve from 0.56250\n",
            "71/71 [==============================] - 54s 728ms/step - loss: 1.0190 - acc: 0.6014 - val_loss: 1.1364 - val_acc: 0.5491\n",
            "Epoch 36/50\n",
            "71/71 [==============================] - ETA: 0s - loss: 1.1039 - acc: 0.5810\n",
            "Epoch 36: val_acc did not improve from 0.56250\n",
            "71/71 [==============================] - 52s 703ms/step - loss: 1.1039 - acc: 0.5810 - val_loss: 1.2025 - val_acc: 0.5223\n",
            "Epoch 37/50\n",
            "71/71 [==============================] - ETA: 0s - loss: 1.0689 - acc: 0.6032\n",
            "Epoch 37: val_acc did not improve from 0.56250\n",
            "71/71 [==============================] - 59s 783ms/step - loss: 1.0689 - acc: 0.6032 - val_loss: 1.1181 - val_acc: 0.5625\n",
            "Epoch 38/50\n",
            "71/71 [==============================] - ETA: 0s - loss: 1.0171 - acc: 0.6125\n",
            "Epoch 38: val_acc improved from 0.56250 to 0.57143, saving model to trained_model.h5\n",
            "71/71 [==============================] - 57s 767ms/step - loss: 1.0171 - acc: 0.6125 - val_loss: 1.1536 - val_acc: 0.5714\n",
            "Epoch 39/50\n",
            "71/71 [==============================] - ETA: 0s - loss: 1.0199 - acc: 0.6107\n",
            "Epoch 39: val_acc did not improve from 0.57143\n",
            "71/71 [==============================] - 58s 795ms/step - loss: 1.0199 - acc: 0.6107 - val_loss: 1.1295 - val_acc: 0.5536\n",
            "Epoch 40/50\n",
            "71/71 [==============================] - ETA: 0s - loss: 1.0155 - acc: 0.6085\n",
            "Epoch 40: val_acc improved from 0.57143 to 0.58036, saving model to trained_model.h5\n",
            "71/71 [==============================] - 59s 815ms/step - loss: 1.0155 - acc: 0.6085 - val_loss: 1.0810 - val_acc: 0.5804\n",
            "Epoch 41/50\n",
            "71/71 [==============================] - ETA: 0s - loss: 0.9888 - acc: 0.6267\n",
            "Epoch 41: val_acc did not improve from 0.58036\n",
            "71/71 [==============================] - 58s 812ms/step - loss: 0.9888 - acc: 0.6267 - val_loss: 1.0900 - val_acc: 0.5714\n",
            "Epoch 42/50\n",
            "71/71 [==============================] - ETA: 0s - loss: 1.0054 - acc: 0.6196\n",
            "Epoch 42: val_acc improved from 0.58036 to 0.58482, saving model to trained_model.h5\n",
            "71/71 [==============================] - 60s 800ms/step - loss: 1.0054 - acc: 0.6196 - val_loss: 1.0909 - val_acc: 0.5848\n",
            "Epoch 43/50\n",
            "71/71 [==============================] - ETA: 0s - loss: 0.9907 - acc: 0.6276\n",
            "Epoch 43: val_acc did not improve from 0.58482\n",
            "71/71 [==============================] - 52s 711ms/step - loss: 0.9907 - acc: 0.6276 - val_loss: 1.0555 - val_acc: 0.5848\n",
            "Epoch 44/50\n",
            "71/71 [==============================] - ETA: 0s - loss: 0.9769 - acc: 0.6445\n",
            "Epoch 44: val_acc did not improve from 0.58482\n",
            "71/71 [==============================] - 55s 738ms/step - loss: 0.9769 - acc: 0.6445 - val_loss: 1.0389 - val_acc: 0.5804\n",
            "Epoch 45/50\n",
            "71/71 [==============================] - ETA: 0s - loss: 0.9543 - acc: 0.6427\n",
            "Epoch 45: val_acc did not improve from 0.58482\n",
            "71/71 [==============================] - 54s 738ms/step - loss: 0.9543 - acc: 0.6427 - val_loss: 1.0546 - val_acc: 0.5804\n",
            "Epoch 46/50\n",
            "71/71 [==============================] - ETA: 0s - loss: 0.9412 - acc: 0.6445\n",
            "Epoch 46: val_acc improved from 0.58482 to 0.61161, saving model to trained_model.h5\n",
            "71/71 [==============================] - 59s 805ms/step - loss: 0.9412 - acc: 0.6445 - val_loss: 1.0601 - val_acc: 0.6116\n",
            "Epoch 47/50\n",
            "71/71 [==============================] - ETA: 0s - loss: 0.9703 - acc: 0.6374\n",
            "Epoch 47: val_acc did not improve from 0.61161\n",
            "71/71 [==============================] - 54s 746ms/step - loss: 0.9703 - acc: 0.6374 - val_loss: 1.0573 - val_acc: 0.5759\n",
            "Epoch 48/50\n",
            "71/71 [==============================] - ETA: 0s - loss: 0.9293 - acc: 0.6471\n",
            "Epoch 48: val_acc did not improve from 0.61161\n",
            "71/71 [==============================] - 58s 790ms/step - loss: 0.9293 - acc: 0.6471 - val_loss: 1.0363 - val_acc: 0.5670\n",
            "Epoch 49/50\n",
            "71/71 [==============================] - ETA: 0s - loss: 0.9286 - acc: 0.6565"
          ]
        }
      ]
    },
    {
      "cell_type": "code",
      "source": [
        "acc = history.history['acc']\n",
        "val_acc = history.history['val_acc']\n",
        "\n",
        "loss = history.history['loss']\n",
        "val_loss = history.history['val_loss']\n",
        "\n",
        "# ________________ Graph 1 -------------------------\n",
        "\n",
        "plt.figure(figsize=(8, 8))\n",
        "plt.subplot(2, 1, 1)\n",
        "plt.plot(acc, label='Training Accuracy')\n",
        "plt.plot(val_acc, label='Validation Accuracy')\n",
        "plt.legend(loc='lower right')\n",
        "plt.ylabel('Accuracy')\n",
        "plt.ylim([min(plt.ylim()),1])\n",
        "plt.title('Training and Validation Accuracy')\n",
        "\n",
        "# ________________ Graph 2 -------------------------\n",
        "\n",
        "plt.subplot(2, 1, 2)\n",
        "plt.plot(loss, label='Training Loss')\n",
        "plt.plot(val_loss, label='Validation Loss')\n",
        "plt.legend(loc='upper right')\n",
        "plt.ylabel('Cross Entropy')\n",
        "plt.ylim([0,max(plt.ylim())])\n",
        "plt.title('Training and Validation Loss')\n",
        "plt.show()"
      ],
      "metadata": {
        "colab": {
          "base_uri": "https://localhost:8080/",
          "height": 699
        },
        "id": "dn-sD3p4PoYk",
        "outputId": "16f02ac7-076d-460f-82a1-9e4db1f3c6a4"
      },
      "execution_count": 18,
      "outputs": [
        {
          "output_type": "display_data",
          "data": {
            "text/plain": [
              "<Figure size 800x800 with 2 Axes>"
            ],
            "image/png": "[encoded data removed]"
          },
          "metadata": {}
        }
      ]
    }
  ]
}