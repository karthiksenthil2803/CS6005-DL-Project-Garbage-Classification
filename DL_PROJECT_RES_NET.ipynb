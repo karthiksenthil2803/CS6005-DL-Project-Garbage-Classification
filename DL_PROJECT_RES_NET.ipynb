{
  "nbformat": 4,
  "nbformat_minor": 0,
  "metadata": {
    "colab": {
      "provenance": [],
      "gpuType": "T4"
    },
    "kernelspec": {
      "name": "python3",
      "display_name": "Python 3"
    },
    "language_info": {
      "name": "python"
    },
    "accelerator": "GPU"
  },
  "cells": [
    {
      "cell_type": "code",
      "execution_count": 10,
      "metadata": {
        "id": "aDkmeU33I_CW"
      },
      "outputs": [],
      "source": [
        "import numpy as np\n",
        "import pandas as pd\n",
        "import torch\n",
        "import torch.nn as nn\n",
        "import torch.nn.functional as F\n",
        "from torch.utils.data import Dataset, DataLoader, ConcatDataset\n",
        "\n",
        "device = torch.device('cuda' if torch.cuda.is_available() else \"cpu\")"
      ]
    },
    {
      "cell_type": "code",
      "source": [
        "!pip install torchSummary\n",
        "!pip install albumentations"
      ],
      "metadata": {
        "colab": {
          "base_uri": "https://localhost:8080/"
        },
        "id": "tU7JQyn04-XD",
        "outputId": "85ba9a2c-9925-4f33-c659-ebf44da58b05"
      },
      "execution_count": 11,
      "outputs": [
        {
          "output_type": "stream",
          "name": "stdout",
          "text": [
            "Requirement already satisfied: torchSummary in /usr/local/lib/python3.10/dist-packages (1.5.1)\n",
            "Requirement already satisfied: albumentations in /usr/local/lib/python3.10/dist-packages (1.3.1)\n",
            "Requirement already satisfied: numpy>=1.11.1 in /usr/local/lib/python3.10/dist-packages (from albumentations) (1.23.5)\n",
            "Requirement already satisfied: scipy>=1.1.0 in /usr/local/lib/python3.10/dist-packages (from albumentations) (1.11.3)\n",
            "Requirement already satisfied: scikit-image>=0.16.1 in /usr/local/lib/python3.10/dist-packages (from albumentations) (0.19.3)\n",
            "Requirement already satisfied: PyYAML in /usr/local/lib/python3.10/dist-packages (from albumentations) (6.0.1)\n",
            "Requirement already satisfied: qudida>=0.0.4 in /usr/local/lib/python3.10/dist-packages (from albumentations) (0.0.4)\n",
            "Requirement already satisfied: opencv-python-headless>=4.1.1 in /usr/local/lib/python3.10/dist-packages (from albumentations) (4.8.1.78)\n",
            "Requirement already satisfied: scikit-learn>=0.19.1 in /usr/local/lib/python3.10/dist-packages (from qudida>=0.0.4->albumentations) (1.2.2)\n",
            "Requirement already satisfied: typing-extensions in /usr/local/lib/python3.10/dist-packages (from qudida>=0.0.4->albumentations) (4.5.0)\n",
            "Requirement already satisfied: networkx>=2.2 in /usr/local/lib/python3.10/dist-packages (from scikit-image>=0.16.1->albumentations) (3.2.1)\n",
            "Requirement already satisfied: pillow!=7.1.0,!=7.1.1,!=8.3.0,>=6.1.0 in /usr/local/lib/python3.10/dist-packages (from scikit-image>=0.16.1->albumentations) (9.4.0)\n",
            "Requirement already satisfied: imageio>=2.4.1 in /usr/local/lib/python3.10/dist-packages (from scikit-image>=0.16.1->albumentations) (2.31.6)\n",
            "Requirement already satisfied: tifffile>=2019.7.26 in /usr/local/lib/python3.10/dist-packages (from scikit-image>=0.16.1->albumentations) (2023.9.26)\n",
            "Requirement already satisfied: PyWavelets>=1.1.1 in /usr/local/lib/python3.10/dist-packages (from scikit-image>=0.16.1->albumentations) (1.4.1)\n",
            "Requirement already satisfied: packaging>=20.0 in /usr/local/lib/python3.10/dist-packages (from scikit-image>=0.16.1->albumentations) (23.2)\n",
            "Requirement already satisfied: joblib>=1.1.1 in /usr/local/lib/python3.10/dist-packages (from scikit-learn>=0.19.1->qudida>=0.0.4->albumentations) (1.3.2)\n",
            "Requirement already satisfied: threadpoolctl>=2.0.0 in /usr/local/lib/python3.10/dist-packages (from scikit-learn>=0.19.1->qudida>=0.0.4->albumentations) (3.2.0)\n"
          ]
        }
      ]
    },
    {
      "cell_type": "code",
      "source": [
        "import os\n",
        "import glob\n",
        "import numpy as np\n",
        "import tqdm\n",
        "import matplotlib.pyplot as plt\n",
        "from PIL import Image\n",
        "import pandas as pd\n",
        "\n",
        "import torch\n",
        "import torch.nn as nn\n",
        "from torch.utils.data import Dataset, DataLoader\n",
        "import torch.optim as optim\n",
        "\n",
        "import torchvision\n",
        "import torchvision.models as models\n",
        "import torchvision.datasets as datasets\n",
        "import torchvision.transforms as transforms\n",
        "import albumentations as A"
      ],
      "metadata": {
        "id": "bSUfnt5_5eU1"
      },
      "execution_count": 12,
      "outputs": []
    },
    {
      "cell_type": "code",
      "source": [
        "from google.colab import drive\n",
        "drive.mount('/content/drive')"
      ],
      "metadata": {
        "id": "0jNHCwpq53_D",
        "colab": {
          "base_uri": "https://localhost:8080/"
        },
        "outputId": "473e649e-b7bf-4d15-bea5-6d152a994d5a"
      },
      "execution_count": 13,
      "outputs": [
        {
          "output_type": "stream",
          "name": "stdout",
          "text": [
            "Drive already mounted at /content/drive; to attempt to forcibly remount, call drive.mount(\"/content/drive\", force_remount=True).\n"
          ]
        }
      ]
    },
    {
      "cell_type": "code",
      "source": [
        "%cd /content/drive/MyDrive/Garbage classification"
      ],
      "metadata": {
        "id": "ijXR-2fC6Iui",
        "colab": {
          "base_uri": "https://localhost:8080/"
        },
        "outputId": "adc31122-ec83-4c19-d880-0fcb305c3333"
      },
      "execution_count": 14,
      "outputs": [
        {
          "output_type": "stream",
          "name": "stdout",
          "text": [
            "/content/drive/MyDrive/Garbage classification\n"
          ]
        }
      ]
    },
    {
      "cell_type": "code",
      "source": [
        "path = \"/content/drive/MyDrive/Garbage classification\"\n",
        "os.listdir(path)\n",
        "glob.glob(path+\"/*\")"
      ],
      "metadata": {
        "id": "GfQDn6xa6WNM",
        "colab": {
          "base_uri": "https://localhost:8080/"
        },
        "outputId": "58e79ea0-6d50-43f9-ab92-dd11b07f12eb"
      },
      "execution_count": 15,
      "outputs": [
        {
          "output_type": "execute_result",
          "data": {
            "text/plain": [
              "['/content/drive/MyDrive/Garbage classification/cardboard',\n",
              " '/content/drive/MyDrive/Garbage classification/trash',\n",
              " '/content/drive/MyDrive/Garbage classification/metal',\n",
              " '/content/drive/MyDrive/Garbage classification/glass',\n",
              " '/content/drive/MyDrive/Garbage classification/paper',\n",
              " '/content/drive/MyDrive/Garbage classification/plastic']"
            ]
          },
          "metadata": {},
          "execution_count": 15
        }
      ]
    },
    {
      "cell_type": "code",
      "source": [
        "folders = glob.glob(path+\"/*\")\n",
        "count = 0\n",
        "\n",
        "for i in folders:\n",
        "    count=0\n",
        "    count+=len(os.listdir(i))\n",
        "    print(i,' =  ', count)"
      ],
      "metadata": {
        "id": "E2IqFRgk7brb",
        "colab": {
          "base_uri": "https://localhost:8080/"
        },
        "outputId": "d5ad9314-c403-48e8-a73c-04acb51553d3"
      },
      "execution_count": 16,
      "outputs": [
        {
          "output_type": "stream",
          "name": "stdout",
          "text": [
            "/content/drive/MyDrive/Garbage classification/cardboard  =   403\n",
            "/content/drive/MyDrive/Garbage classification/trash  =   137\n",
            "/content/drive/MyDrive/Garbage classification/metal  =   410\n",
            "/content/drive/MyDrive/Garbage classification/glass  =   501\n",
            "/content/drive/MyDrive/Garbage classification/paper  =   594\n",
            "/content/drive/MyDrive/Garbage classification/plastic  =   492\n"
          ]
        }
      ]
    },
    {
      "cell_type": "code",
      "source": [
        "transform2  = A.Compose([\n",
        "    A.HorizontalFlip(p=0.2),\n",
        "    A.RandomBrightnessContrast(brightness_limit=0.2),\n",
        "    A.VerticalFlip(p=0.2),\n",
        "    A.Rotate(0,80),\n",
        "    A.Resize(224,224),\n",
        "    A.Normalize(max_pixel_value = 255.0,p=1)\n",
        "])"
      ],
      "metadata": {
        "id": "TpcH4ejq7jnS"
      },
      "execution_count": 17,
      "outputs": []
    },
    {
      "cell_type": "code",
      "source": [
        "import cv2\n",
        "import imageio as iio\n",
        "import PIL as image\n",
        "\n",
        "class CustomDataset(Dataset):\n",
        "    def __init__(self, transform = None):\n",
        "        self.folder = path\n",
        "        folders = glob.glob(self.folder + \"/*\")\n",
        "#         print('folders',folders)\n",
        "\n",
        "        self.transform = transform\n",
        "        self.data = []\n",
        "        for class_path in folders:\n",
        "            class_name = class_path.split(\"/\")[-1]\n",
        "            for img_path in glob.glob(class_path + \"/*.jpg\"):\n",
        "                self.data.append([img_path, class_name])\n",
        "\n",
        "#         print(self.data[0])\n",
        "\n",
        "\n",
        "        self.class_map = {\n",
        "            'metal' : 0,\n",
        "            'glass' : 1,\n",
        "            'plastic' : 2,\n",
        "            'paper':3,\n",
        "            'cardboard':4,\n",
        "            'trash' :5\n",
        "\n",
        "        }\n",
        "    def __len__(self):\n",
        "        return len(self.data)\n",
        "    def __getitem__(self, idx):\n",
        "        img_path, class_name = self.data[idx]\n",
        "\n",
        "        img = cv2.imread(img_path, cv2.IMREAD_COLOR)\n",
        "        img = cv2.resize(img, (224,224))\n",
        "\n",
        "        # Augmentations\n",
        "        if self.transform is not None:\n",
        "            transformed = transform2(image = img)\n",
        "            transformed_image = transformed['image']\n",
        "            img = cv2.resize(img,(224,224))\n",
        "\n",
        "\n",
        "        class_id = self.class_map[class_name]\n",
        "        img_tensor = torch.from_numpy(img)\n",
        "        img_tensor = img_tensor.permute(2, 0, 1)\n",
        "        img_tensor = img_tensor.to(torch.float32)\n",
        "\n",
        "        class_id = class_id\n",
        "        return img_tensor, class_id"
      ],
      "metadata": {
        "id": "Awgh3gh57nmg"
      },
      "execution_count": 18,
      "outputs": []
    },
    {
      "cell_type": "code",
      "source": [
        "dataset = CustomDataset(transform = transform2)\n",
        "len(dataset) # 2527 images"
      ],
      "metadata": {
        "id": "AluiQRcc73O4",
        "colab": {
          "base_uri": "https://localhost:8080/"
        },
        "outputId": "e3337d49-2feb-4717-c843-4f185c3cc129"
      },
      "execution_count": 19,
      "outputs": [
        {
          "output_type": "execute_result",
          "data": {
            "text/plain": [
              "2537"
            ]
          },
          "metadata": {},
          "execution_count": 19
        }
      ]
    },
    {
      "cell_type": "code",
      "source": [
        "train_dataset, val_dataset = torch.utils.data.random_split(dataset, [2237, 300])"
      ],
      "metadata": {
        "id": "zVxlmBWm770F"
      },
      "execution_count": 20,
      "outputs": []
    },
    {
      "cell_type": "code",
      "source": [
        "train_dataloader = DataLoader(train_dataset, batch_size = 64, shuffle=True, num_workers=2)\n",
        "val_dataloader = DataLoader(val_dataset, batch_size = 64, shuffle=False, num_workers=2)"
      ],
      "metadata": {
        "id": "Fsy6bQ3_8Kq8"
      },
      "execution_count": 21,
      "outputs": []
    },
    {
      "cell_type": "code",
      "source": [
        "for i, (j,k) in enumerate(val_dataloader):\n",
        "    print(k)"
      ],
      "metadata": {
        "id": "VliDPZ_Y8MWN",
        "colab": {
          "base_uri": "https://localhost:8080/"
        },
        "outputId": "f6c978bc-619b-40c0-b7c6-e991f2f096a8"
      },
      "execution_count": 22,
      "outputs": [
        {
          "output_type": "stream",
          "name": "stdout",
          "text": [
            "tensor([2, 3, 2, 0, 1, 3, 2, 0, 2, 3, 3, 3, 4, 1, 3, 3, 0, 1, 4, 0, 5, 3, 0, 3,\n",
            "        3, 4, 3, 3, 4, 4, 4, 4, 2, 4, 1, 3, 0, 0, 4, 4, 1, 1, 4, 2, 2, 3, 3, 1,\n",
            "        0, 5, 4, 2, 5, 4, 2, 1, 1, 4, 0, 1, 3, 2, 2, 2])\n",
            "tensor([3, 1, 3, 0, 3, 1, 4, 3, 1, 4, 1, 5, 2, 4, 2, 4, 3, 4, 3, 2, 3, 2, 0, 5,\n",
            "        3, 3, 4, 3, 0, 0, 2, 4, 1, 1, 3, 2, 1, 5, 0, 4, 1, 5, 3, 0, 4, 4, 1, 4,\n",
            "        5, 4, 2, 1, 3, 2, 2, 3, 0, 1, 3, 0, 3, 4, 3, 0])\n",
            "tensor([2, 3, 1, 4, 4, 4, 0, 1, 1, 0, 0, 0, 3, 4, 3, 4, 1, 4, 5, 4, 1, 1, 1, 1,\n",
            "        1, 2, 4, 3, 0, 1, 2, 1, 4, 0, 0, 2, 2, 0, 0, 3, 2, 0, 4, 4, 3, 4, 2, 2,\n",
            "        4, 2, 2, 3, 2, 1, 1, 3, 3, 0, 2, 2, 3, 2, 1, 5])\n",
            "tensor([3, 3, 1, 5, 1, 4, 4, 1, 0, 1, 3, 2, 0, 1, 0, 3, 2, 4, 2, 0, 3, 3, 5, 2,\n",
            "        3, 3, 3, 3, 0, 0, 3, 3, 2, 3, 2, 5, 2, 3, 4, 1, 3, 0, 3, 3, 4, 1, 1, 2,\n",
            "        1, 3, 3, 2, 1, 3, 1, 3, 4, 4, 3, 0, 2, 2, 1, 1])\n",
            "tensor([3, 5, 5, 1, 2, 2, 1, 2, 0, 4, 3, 1, 3, 3, 5, 3, 2, 3, 1, 4, 4, 4, 3, 3,\n",
            "        3, 3, 0, 1, 1, 0, 3, 4, 3, 3, 0, 3, 3, 3, 1, 1, 4, 2, 3, 5])\n"
          ]
        }
      ]
    },
    {
      "cell_type": "code",
      "source": [
        "class ResBlock(nn.Module):\n",
        "    def __init__(self, in_channels, out_channels, downsample):\n",
        "        super().__init__()\n",
        "        if downsample:\n",
        "            self.conv1 = nn.Conv2d(in_channels, out_channels, kernel_size=3, stride=2, padding=1)\n",
        "            self.shortcut = nn.Sequential(\n",
        "                nn.Conv2d(in_channels, out_channels, kernel_size=1, stride=2),\n",
        "                nn.BatchNorm2d(out_channels)\n",
        "            )\n",
        "        else:\n",
        "            self.conv1 = nn.Conv2d(in_channels, out_channels, kernel_size=3, stride=1, padding=1)\n",
        "            self.shortcut = nn.Sequential()\n",
        "\n",
        "        self.conv2 = nn.Conv2d(out_channels, out_channels, kernel_size=3, stride=1, padding=1)\n",
        "        self.bn1 = nn.BatchNorm2d(out_channels)\n",
        "        self.bn2 = nn.BatchNorm2d(out_channels)\n",
        "\n",
        "    def forward(self, input):\n",
        "        shortcut = self.shortcut(input)\n",
        "        input = nn.ReLU()(self.bn1(self.conv1(input)))\n",
        "        input = nn.ReLU()(self.bn2(self.conv2(input)))\n",
        "        input = input + shortcut\n",
        "        return nn.ReLU()(input)"
      ],
      "metadata": {
        "id": "jGWbHhDy_G57"
      },
      "execution_count": 23,
      "outputs": []
    },
    {
      "cell_type": "code",
      "source": [
        "class ResNet18(nn.Module):\n",
        "  def __init__(self, in_channels, resblock, outputs=12):\n",
        "    super().__init__()\n",
        "    self.layer0 = nn.Sequential(\n",
        "            nn.Conv2d(in_channels, 64, kernel_size=7, stride=2, padding=3),\n",
        "            nn.MaxPool2d(kernel_size=3, stride=2, padding=1),\n",
        "            nn.BatchNorm2d(64),\n",
        "            nn.ReLU()\n",
        "        )\n",
        "\n",
        "    self.layer1 = nn.Sequential(\n",
        "            resblock(64, 64, downsample=False),\n",
        "            resblock(64, 64, downsample=False)\n",
        "        )\n",
        "\n",
        "    self.layer2 = nn.Sequential(\n",
        "            resblock(64, 128, downsample=True),\n",
        "            resblock(128, 128, downsample=False)\n",
        "        )\n",
        "\n",
        "    self.layer3 = nn.Sequential(\n",
        "            resblock(128, 256, downsample=True),\n",
        "            resblock(256, 256, downsample=False)\n",
        "        )\n",
        "\n",
        "\n",
        "    self.layer4 = nn.Sequential(\n",
        "            resblock(256, 512, downsample=True),\n",
        "            resblock(512, 512, downsample=False)\n",
        "        )\n",
        "\n",
        "#     self.gap = nn.AdaptiveAvgPool2d(1)\n",
        "#     self.fc = nn.Linear(1024,12, device=device)\n",
        "    self.avgpool = nn.AdaptiveAvgPool2d((1, 1))\n",
        "    self.fc = nn.Linear(512 , 12)\n",
        "\n",
        "  def forward(self, input):\n",
        "        input = self.layer0(input)\n",
        "        input = self.layer1(input)\n",
        "        input = self.layer2(input)\n",
        "        input = self.layer3(input)\n",
        "        input = self.layer4(input)\n",
        "        input = self.avgpool(input)\n",
        "#         print(input.shape)\n",
        "        input = torch.flatten(input,1)\n",
        "#         print(input.shape)\n",
        "\n",
        "        input = self.fc(input)\n",
        "#         print(input.shape)\n",
        "\n",
        "        return input"
      ],
      "metadata": {
        "id": "6UKTX2aB_LKa"
      },
      "execution_count": 24,
      "outputs": []
    },
    {
      "cell_type": "code",
      "source": [
        "from torchsummary import summary\n",
        "\n",
        "resnet18 = ResNet18(3, ResBlock, outputs=6)\n",
        "resnet18.to(device)\n",
        "summary(resnet18, (3, 224, 224))"
      ],
      "metadata": {
        "id": "pUgMGMVs_NiF",
        "colab": {
          "base_uri": "https://localhost:8080/"
        },
        "outputId": "dbe94036-d6d2-42c3-e4c7-884bbc390d9a"
      },
      "execution_count": 25,
      "outputs": [
        {
          "output_type": "stream",
          "name": "stdout",
          "text": [
            "----------------------------------------------------------------\n",
            "        Layer (type)               Output Shape         Param #\n",
            "================================================================\n",
            "            Conv2d-1         [-1, 64, 112, 112]           9,472\n",
            "         MaxPool2d-2           [-1, 64, 56, 56]               0\n",
            "       BatchNorm2d-3           [-1, 64, 56, 56]             128\n",
            "              ReLU-4           [-1, 64, 56, 56]               0\n",
            "            Conv2d-5           [-1, 64, 56, 56]          36,928\n",
            "       BatchNorm2d-6           [-1, 64, 56, 56]             128\n",
            "            Conv2d-7           [-1, 64, 56, 56]          36,928\n",
            "       BatchNorm2d-8           [-1, 64, 56, 56]             128\n",
            "          ResBlock-9           [-1, 64, 56, 56]               0\n",
            "           Conv2d-10           [-1, 64, 56, 56]          36,928\n",
            "      BatchNorm2d-11           [-1, 64, 56, 56]             128\n",
            "           Conv2d-12           [-1, 64, 56, 56]          36,928\n",
            "      BatchNorm2d-13           [-1, 64, 56, 56]             128\n",
            "         ResBlock-14           [-1, 64, 56, 56]               0\n",
            "           Conv2d-15          [-1, 128, 28, 28]           8,320\n",
            "      BatchNorm2d-16          [-1, 128, 28, 28]             256\n",
            "           Conv2d-17          [-1, 128, 28, 28]          73,856\n",
            "      BatchNorm2d-18          [-1, 128, 28, 28]             256\n",
            "           Conv2d-19          [-1, 128, 28, 28]         147,584\n",
            "      BatchNorm2d-20          [-1, 128, 28, 28]             256\n",
            "         ResBlock-21          [-1, 128, 28, 28]               0\n",
            "           Conv2d-22          [-1, 128, 28, 28]         147,584\n",
            "      BatchNorm2d-23          [-1, 128, 28, 28]             256\n",
            "           Conv2d-24          [-1, 128, 28, 28]         147,584\n",
            "      BatchNorm2d-25          [-1, 128, 28, 28]             256\n",
            "         ResBlock-26          [-1, 128, 28, 28]               0\n",
            "           Conv2d-27          [-1, 256, 14, 14]          33,024\n",
            "      BatchNorm2d-28          [-1, 256, 14, 14]             512\n",
            "           Conv2d-29          [-1, 256, 14, 14]         295,168\n",
            "      BatchNorm2d-30          [-1, 256, 14, 14]             512\n",
            "           Conv2d-31          [-1, 256, 14, 14]         590,080\n",
            "      BatchNorm2d-32          [-1, 256, 14, 14]             512\n",
            "         ResBlock-33          [-1, 256, 14, 14]               0\n",
            "           Conv2d-34          [-1, 256, 14, 14]         590,080\n",
            "      BatchNorm2d-35          [-1, 256, 14, 14]             512\n",
            "           Conv2d-36          [-1, 256, 14, 14]         590,080\n",
            "      BatchNorm2d-37          [-1, 256, 14, 14]             512\n",
            "         ResBlock-38          [-1, 256, 14, 14]               0\n",
            "           Conv2d-39            [-1, 512, 7, 7]         131,584\n",
            "      BatchNorm2d-40            [-1, 512, 7, 7]           1,024\n",
            "           Conv2d-41            [-1, 512, 7, 7]       1,180,160\n",
            "      BatchNorm2d-42            [-1, 512, 7, 7]           1,024\n",
            "           Conv2d-43            [-1, 512, 7, 7]       2,359,808\n",
            "      BatchNorm2d-44            [-1, 512, 7, 7]           1,024\n",
            "         ResBlock-45            [-1, 512, 7, 7]               0\n",
            "           Conv2d-46            [-1, 512, 7, 7]       2,359,808\n",
            "      BatchNorm2d-47            [-1, 512, 7, 7]           1,024\n",
            "           Conv2d-48            [-1, 512, 7, 7]       2,359,808\n",
            "      BatchNorm2d-49            [-1, 512, 7, 7]           1,024\n",
            "         ResBlock-50            [-1, 512, 7, 7]               0\n",
            "AdaptiveAvgPool2d-51            [-1, 512, 1, 1]               0\n",
            "           Linear-52                   [-1, 12]           6,156\n",
            "================================================================\n",
            "Total params: 11,187,468\n",
            "Trainable params: 11,187,468\n",
            "Non-trainable params: 0\n",
            "----------------------------------------------------------------\n",
            "Input size (MB): 0.57\n",
            "Forward/backward pass size (MB): 42.11\n",
            "Params size (MB): 42.68\n",
            "Estimated Total Size (MB): 85.36\n",
            "----------------------------------------------------------------\n"
          ]
        }
      ]
    },
    {
      "cell_type": "code",
      "source": [
        "criterion = nn.CrossEntropyLoss()\n",
        "optimizer = optim.SGD(resnet18.parameters(), lr=0.001, momentum = 0.9)\n",
        "scheduler = torch.optim.lr_scheduler.ReduceLROnPlateau(optimizer, mode='min', factor=0.2, patience=5, verbose=True)"
      ],
      "metadata": {
        "id": "LdmAwZd8_PTB"
      },
      "execution_count": 28,
      "outputs": []
    },
    {
      "cell_type": "code",
      "source": [
        "import time\n",
        "def evaluate_model(model, dataloader, device):\n",
        "    model.eval()  # for batch normalization layers\n",
        "    corrects = 0\n",
        "    y_pred = []\n",
        "    y_true = []\n",
        "\n",
        "    with torch.no_grad():\n",
        "        for inputs, targets in dataloader:\n",
        "            inputs, targets = inputs.to(device), targets.to(device)\n",
        "            outputs = model(inputs)\n",
        "            _, preds = torch.max(outputs, 1)\n",
        "            corrects += (preds == targets.data).sum()\n",
        "\n",
        "\n",
        "\n",
        "            output = (torch.max(torch.exp(outputs), 1)[1]).data.cpu().numpy()\n",
        "            y_pred.extend(output) # Save Prediction\n",
        "\n",
        "            labels = targets.data.cpu().numpy()\n",
        "            y_true.extend(labels) # Save Truth\n",
        "\n",
        "\n",
        "    print('Accuracy: {:.2f}'.format(100. * corrects / len(dataloader.dataset)))\n",
        "    return y_pred, y_true"
      ],
      "metadata": {
        "id": "I_Vceb9V8ci_"
      },
      "execution_count": 29,
      "outputs": []
    },
    {
      "cell_type": "code",
      "source": [
        "t0 = time.time()\n",
        "resnet_num_epochs = 50\n",
        "resnet_val_losses = []\n",
        "resnet_train_losses = []\n",
        "\n",
        "for epoch in range(resnet_num_epochs):\n",
        "    train_loss= 0.0\n",
        "    for i, (inputs,targets) in enumerate(train_dataloader):\n",
        "\n",
        "        inputs = inputs.to(device)\n",
        "        targets = targets.to(device)\n",
        "\n",
        "        outputs = resnet18(inputs)\n",
        "\n",
        "        optimizer.zero_grad()\n",
        "\n",
        "        train_loss = criterion(outputs, targets)\n",
        "            #         print(train_loss.item())\n",
        "\n",
        "            # backward pass\n",
        "\n",
        "        train_loss.backward()\n",
        "\n",
        "            # update parameters\n",
        "        optimizer.step()\n",
        "    resnet_train_losses.append(train_loss.item())\n",
        "\n",
        "    resnet18.eval()\n",
        "    val_loss = 0.0\n",
        "    for i, (inputs, targets) in enumerate(val_dataloader):\n",
        "        inputs = inputs.to(device)\n",
        "        targets = targets.to(device)\n",
        "\n",
        "            # forward pass\n",
        "        outputs = resnet18(inputs)\n",
        "\n",
        "        val_loss = criterion(outputs, targets)\n",
        "\n",
        "    resnet_val_losses.append(val_loss.item())\n",
        "\n",
        "\n",
        "    scheduler.step(val_loss)\n",
        "\n",
        "    print('training Loss at epoch ', epoch+1 , \"=\" ,train_loss.item())\n",
        "    print('validation Loss at epoch ', epoch+1 , \"=\" ,val_loss.item())\n",
        "    evaluate_model(resnet18, val_dataloader, device)\n",
        "t1 = time.time()\n",
        "print(\"Total time taken \" ,(t1-t0)/60 )"
      ],
      "metadata": {
        "id": "7ajE1XLj_RtM",
        "colab": {
          "base_uri": "https://localhost:8080/"
        },
        "outputId": "972f506d-cab1-40ca-80e4-03af2a307bf2"
      },
      "execution_count": 31,
      "outputs": [
        {
          "output_type": "stream",
          "name": "stdout",
          "text": [
            "training Loss at epoch  1 = 1.243315577507019\n",
            "validation Loss at epoch  1 = 1.2833759784698486\n",
            "Accuracy: 45.33\n",
            "training Loss at epoch  2 = 1.4705711603164673\n",
            "validation Loss at epoch  2 = 1.634048581123352\n",
            "Accuracy: 38.00\n",
            "training Loss at epoch  3 = 1.6521888971328735\n",
            "validation Loss at epoch  3 = 1.763257622718811\n",
            "Accuracy: 26.00\n",
            "training Loss at epoch  4 = 1.6130448579788208\n",
            "validation Loss at epoch  4 = 1.5319182872772217\n",
            "Accuracy: 36.33\n",
            "training Loss at epoch  5 = 1.4219379425048828\n",
            "validation Loss at epoch  5 = 1.3967020511627197\n",
            "Accuracy: 37.00\n",
            "training Loss at epoch  6 = 1.3900799751281738\n",
            "validation Loss at epoch  6 = 1.2943358421325684\n",
            "Accuracy: 47.67\n",
            "training Loss at epoch  7 = 1.1646960973739624\n",
            "validation Loss at epoch  7 = 1.0645638704299927\n",
            "Accuracy: 56.33\n",
            "training Loss at epoch  8 = 1.3093409538269043\n",
            "validation Loss at epoch  8 = 1.0216790437698364\n",
            "Accuracy: 53.67\n",
            "training Loss at epoch  9 = 1.2560547590255737\n",
            "validation Loss at epoch  9 = 0.8648425936698914\n",
            "Accuracy: 59.00\n",
            "training Loss at epoch  10 = 1.0927246809005737\n",
            "validation Loss at epoch  10 = 1.04026198387146\n",
            "Accuracy: 56.00\n",
            "training Loss at epoch  11 = 1.1263601779937744\n",
            "validation Loss at epoch  11 = 0.8534319400787354\n",
            "Accuracy: 63.00\n",
            "training Loss at epoch  12 = 0.9785016179084778\n",
            "validation Loss at epoch  12 = 0.742764413356781\n",
            "Accuracy: 61.67\n",
            "training Loss at epoch  13 = 1.056828498840332\n",
            "validation Loss at epoch  13 = 0.8643020987510681\n",
            "Accuracy: 62.33\n",
            "training Loss at epoch  14 = 0.9936184883117676\n",
            "validation Loss at epoch  14 = 0.9285483956336975\n",
            "Accuracy: 59.33\n",
            "training Loss at epoch  15 = 0.9652011394500732\n",
            "validation Loss at epoch  15 = 0.7525533437728882\n",
            "Accuracy: 65.00\n",
            "training Loss at epoch  16 = 0.8872717022895813\n",
            "validation Loss at epoch  16 = 0.577117383480072\n",
            "Accuracy: 65.33\n",
            "training Loss at epoch  17 = 0.9513176083564758\n",
            "validation Loss at epoch  17 = 0.6487305164337158\n",
            "Accuracy: 68.33\n",
            "training Loss at epoch  18 = 0.8648947477340698\n",
            "validation Loss at epoch  18 = 0.5480117201805115\n",
            "Accuracy: 71.33\n",
            "training Loss at epoch  19 = 0.9577807784080505\n",
            "validation Loss at epoch  19 = 0.6072579026222229\n",
            "Accuracy: 69.00\n",
            "training Loss at epoch  20 = 1.0059107542037964\n",
            "validation Loss at epoch  20 = 1.026375651359558\n",
            "Accuracy: 62.33\n",
            "training Loss at epoch  21 = 0.840487003326416\n",
            "validation Loss at epoch  21 = 0.6856604814529419\n",
            "Accuracy: 70.33\n",
            "training Loss at epoch  22 = 0.7637718319892883\n",
            "validation Loss at epoch  22 = 0.5830462574958801\n",
            "Accuracy: 72.33\n",
            "training Loss at epoch  23 = 0.9996973276138306\n",
            "validation Loss at epoch  23 = 0.552753210067749\n",
            "Accuracy: 69.67\n",
            "Epoch 00024: reducing learning rate of group 0 to 2.0000e-04.\n",
            "training Loss at epoch  24 = 0.8566774725914001\n",
            "validation Loss at epoch  24 = 0.5522490739822388\n",
            "Accuracy: 72.67\n",
            "training Loss at epoch  25 = 0.5869358777999878\n",
            "validation Loss at epoch  25 = 0.48451006412506104\n",
            "Accuracy: 76.67\n",
            "training Loss at epoch  26 = 0.5956520438194275\n",
            "validation Loss at epoch  26 = 0.39572182297706604\n",
            "Accuracy: 76.00\n",
            "training Loss at epoch  27 = 0.46427902579307556\n",
            "validation Loss at epoch  27 = 0.38180428743362427\n",
            "Accuracy: 77.33\n",
            "training Loss at epoch  28 = 0.6570708751678467\n",
            "validation Loss at epoch  28 = 0.44925543665885925\n",
            "Accuracy: 77.33\n",
            "training Loss at epoch  29 = 0.49454596638679504\n",
            "validation Loss at epoch  29 = 0.3885323405265808\n",
            "Accuracy: 79.00\n",
            "training Loss at epoch  30 = 0.40685904026031494\n",
            "validation Loss at epoch  30 = 0.3933745324611664\n",
            "Accuracy: 77.00\n",
            "training Loss at epoch  31 = 0.5050258040428162\n",
            "validation Loss at epoch  31 = 0.3362438380718231\n",
            "Accuracy: 79.33\n",
            "training Loss at epoch  32 = 0.33875930309295654\n",
            "validation Loss at epoch  32 = 0.32396838068962097\n",
            "Accuracy: 77.33\n",
            "training Loss at epoch  33 = 0.3583604395389557\n",
            "validation Loss at epoch  33 = 0.34801024198532104\n",
            "Accuracy: 76.00\n",
            "training Loss at epoch  34 = 0.4693715572357178\n",
            "validation Loss at epoch  34 = 0.4074210226535797\n",
            "Accuracy: 78.67\n",
            "training Loss at epoch  35 = 0.48851296305656433\n",
            "validation Loss at epoch  35 = 0.3144768476486206\n",
            "Accuracy: 78.33\n",
            "training Loss at epoch  36 = 0.36018186807632446\n",
            "validation Loss at epoch  36 = 0.3359023332595825\n",
            "Accuracy: 81.00\n",
            "training Loss at epoch  37 = 0.48136815428733826\n",
            "validation Loss at epoch  37 = 0.45838984847068787\n",
            "Accuracy: 77.00\n",
            "training Loss at epoch  38 = 0.2769615650177002\n",
            "validation Loss at epoch  38 = 0.4080961346626282\n",
            "Accuracy: 80.67\n",
            "training Loss at epoch  39 = 0.3501410186290741\n",
            "validation Loss at epoch  39 = 0.40599653124809265\n",
            "Accuracy: 78.67\n",
            "training Loss at epoch  40 = 0.3596763014793396\n",
            "validation Loss at epoch  40 = 0.34733083844184875\n",
            "Accuracy: 77.33\n",
            "Epoch 00041: reducing learning rate of group 0 to 4.0000e-05.\n",
            "training Loss at epoch  41 = 0.4242379367351532\n",
            "validation Loss at epoch  41 = 0.4649902582168579\n",
            "Accuracy: 81.33\n",
            "training Loss at epoch  42 = 0.48953497409820557\n",
            "validation Loss at epoch  42 = 0.33377519249916077\n",
            "Accuracy: 80.00\n",
            "training Loss at epoch  43 = 0.36492040753364563\n",
            "validation Loss at epoch  43 = 0.3468325436115265\n",
            "Accuracy: 81.67\n",
            "training Loss at epoch  44 = 0.4035821259021759\n",
            "validation Loss at epoch  44 = 0.32741937041282654\n",
            "Accuracy: 81.33\n",
            "training Loss at epoch  45 = 0.5368313193321228\n",
            "validation Loss at epoch  45 = 0.3513709008693695\n",
            "Accuracy: 81.67\n",
            "training Loss at epoch  46 = 0.354703813791275\n",
            "validation Loss at epoch  46 = 0.335000216960907\n",
            "Accuracy: 81.33\n",
            "Epoch 00047: reducing learning rate of group 0 to 8.0000e-06.\n",
            "training Loss at epoch  47 = 0.2496110051870346\n",
            "validation Loss at epoch  47 = 0.3369717299938202\n",
            "Accuracy: 79.33\n",
            "training Loss at epoch  48 = 0.46237948536872864\n",
            "validation Loss at epoch  48 = 0.3490305244922638\n",
            "Accuracy: 82.00\n",
            "training Loss at epoch  49 = 0.4725225269794464\n",
            "validation Loss at epoch  49 = 0.3417421579360962\n",
            "Accuracy: 81.67\n",
            "training Loss at epoch  50 = 0.33107826113700867\n",
            "validation Loss at epoch  50 = 0.3480874300003052\n",
            "Accuracy: 82.00\n",
            "Total time taken  14.922836132844289\n"
          ]
        }
      ]
    },
    {
      "cell_type": "code",
      "source": [
        "def plot_train_curve(train_losses):\n",
        "    plt.figure(figsize=(10, 4))\n",
        "    plt.plot(train_losses)\n",
        "    plt.xlabel('Iteration')\n",
        "    plt.ylabel('Training loss')\n",
        "    plt.title('NLL Loss')\n",
        "    plt.show()"
      ],
      "metadata": {
        "id": "GXVToRM-_fmR"
      },
      "execution_count": 32,
      "outputs": []
    },
    {
      "cell_type": "code",
      "source": [
        "def plot_val_curve(val_losses):\n",
        "    plt.figure(figsize = (10,4))\n",
        "    plt.plot(val_losses)\n",
        "    plt.xlabel('Iteration')\n",
        "    plt.ylabel('Validation loss')\n",
        "    plt.title('NLL Loss')\n",
        "    plt.show()"
      ],
      "metadata": {
        "id": "giPzrJgp_g6e"
      },
      "execution_count": 33,
      "outputs": []
    },
    {
      "cell_type": "code",
      "source": [
        "plot_train_curve(resnet_train_losses)\n",
        "plot_val_curve(resnet_val_losses)"
      ],
      "metadata": {
        "id": "OnD18F1P_n38",
        "colab": {
          "base_uri": "https://localhost:8080/",
          "height": 803
        },
        "outputId": "9d6afc10-8b94-4421-ea43-8f30f693ad77"
      },
      "execution_count": 34,
      "outputs": [
        {
          "output_type": "display_data",
          "data": {
            "text/plain": [
              "<Figure size 1000x400 with 1 Axes>"
            ],
            "image/png": "[encoded data removed]"
          },
          "metadata": {}
        },
        {
          "output_type": "display_data",
          "data": {
            "text/plain": [
              "<Figure size 1000x400 with 1 Axes>"
            ],
            "image/png": "[encoded data removed]"
          },
          "metadata": {}
        }
      ]
    },
    {
      "cell_type": "code",
      "source": [
        "classes = {\n",
        "            'metal' : 0,\n",
        "            'glass' : 1,\n",
        "            'plastic' : 2,\n",
        "            'paper':3,\n",
        "            'cardboard':4,\n",
        "            'trash' :5\n",
        "          }"
      ],
      "metadata": {
        "id": "EE-zma0A_km0"
      },
      "execution_count": 35,
      "outputs": []
    },
    {
      "cell_type": "code",
      "source": [
        "y_pred, y_true = evaluate_model(resnet18, val_dataloader, device)"
      ],
      "metadata": {
        "id": "r5jvlOJ__qAG",
        "colab": {
          "base_uri": "https://localhost:8080/"
        },
        "outputId": "8a08a168-fd90-42b4-f882-6634ea3524d0"
      },
      "execution_count": 36,
      "outputs": [
        {
          "output_type": "stream",
          "name": "stdout",
          "text": [
            "Accuracy: 82.00\n"
          ]
        }
      ]
    },
    {
      "cell_type": "code",
      "source": [
        "from sklearn.metrics import confusion_matrix\n",
        "import seaborn as sn\n",
        "\n",
        "cf_matrix = confusion_matrix(y_true, y_pred)\n",
        "df_cm = pd.DataFrame(cf_matrix / np.sum(cf_matrix, axis=1), index = [i for i in classes],\n",
        "                     columns = [i for i in classes])\n",
        "plt.figure(figsize = (12,7))\n",
        "sn.heatmap(df_cm, annot=True)\n",
        "plt.savefig('output2.png')"
      ],
      "metadata": {
        "id": "yepFR8o7_r61",
        "colab": {
          "base_uri": "https://localhost:8080/",
          "height": 599
        },
        "outputId": "f1ab6605-f4c0-4b1d-cbb9-da0fbcb58381"
      },
      "execution_count": 38,
      "outputs": [
        {
          "output_type": "display_data",
          "data": {
            "text/plain": [
              "<Figure size 1200x700 with 2 Axes>"
            ],
            "image/png": "[encoded data removed]"
          },
          "metadata": {}
        }
      ]
    }
  ]
}