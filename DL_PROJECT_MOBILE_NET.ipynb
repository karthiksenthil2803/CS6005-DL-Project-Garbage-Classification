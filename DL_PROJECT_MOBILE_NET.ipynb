{
  "nbformat": 4,
  "nbformat_minor": 0,
  "metadata": {
    "colab": {
      "provenance": [],
      "gpuType": "T4"
    },
    "kernelspec": {
      "name": "python3",
      "display_name": "Python 3"
    },
    "language_info": {
      "name": "python"
    },
    "accelerator": "GPU"
  },
  "cells": [
    {
      "cell_type": "code",
      "execution_count": 1,
      "metadata": {
        "id": "aDkmeU33I_CW"
      },
      "outputs": [],
      "source": [
        "import numpy as np\n",
        "import pandas as pd\n",
        "import torch\n",
        "import torch.nn as nn\n",
        "import torch.nn.functional as F\n",
        "from torch.utils.data import Dataset, DataLoader, ConcatDataset\n",
        "\n",
        "device = torch.device('cuda' if torch.cuda.is_available() else \"cpu\")"
      ]
    },
    {
      "cell_type": "code",
      "source": [
        "!pip install torchSummary\n",
        "!pip install albumentations"
      ],
      "metadata": {
        "colab": {
          "base_uri": "https://localhost:8080/"
        },
        "id": "tU7JQyn04-XD",
        "outputId": "b5bc98ca-2cf2-4e9c-e3f0-0aebb8c20c0a"
      },
      "execution_count": 2,
      "outputs": [
        {
          "output_type": "stream",
          "name": "stdout",
          "text": [
            "Requirement already satisfied: torchSummary in /usr/local/lib/python3.10/dist-packages (1.5.1)\n",
            "Requirement already satisfied: albumentations in /usr/local/lib/python3.10/dist-packages (1.3.1)\n",
            "Requirement already satisfied: numpy>=1.11.1 in /usr/local/lib/python3.10/dist-packages (from albumentations) (1.23.5)\n",
            "Requirement already satisfied: scipy>=1.1.0 in /usr/local/lib/python3.10/dist-packages (from albumentations) (1.11.3)\n",
            "Requirement already satisfied: scikit-image>=0.16.1 in /usr/local/lib/python3.10/dist-packages (from albumentations) (0.19.3)\n",
            "Requirement already satisfied: PyYAML in /usr/local/lib/python3.10/dist-packages (from albumentations) (6.0.1)\n",
            "Requirement already satisfied: qudida>=0.0.4 in /usr/local/lib/python3.10/dist-packages (from albumentations) (0.0.4)\n",
            "Requirement already satisfied: opencv-python-headless>=4.1.1 in /usr/local/lib/python3.10/dist-packages (from albumentations) (4.8.1.78)\n",
            "Requirement already satisfied: scikit-learn>=0.19.1 in /usr/local/lib/python3.10/dist-packages (from qudida>=0.0.4->albumentations) (1.2.2)\n",
            "Requirement already satisfied: typing-extensions in /usr/local/lib/python3.10/dist-packages (from qudida>=0.0.4->albumentations) (4.5.0)\n",
            "Requirement already satisfied: networkx>=2.2 in /usr/local/lib/python3.10/dist-packages (from scikit-image>=0.16.1->albumentations) (3.2.1)\n",
            "Requirement already satisfied: pillow!=7.1.0,!=7.1.1,!=8.3.0,>=6.1.0 in /usr/local/lib/python3.10/dist-packages (from scikit-image>=0.16.1->albumentations) (9.4.0)\n",
            "Requirement already satisfied: imageio>=2.4.1 in /usr/local/lib/python3.10/dist-packages (from scikit-image>=0.16.1->albumentations) (2.31.6)\n",
            "Requirement already satisfied: tifffile>=2019.7.26 in /usr/local/lib/python3.10/dist-packages (from scikit-image>=0.16.1->albumentations) (2023.9.26)\n",
            "Requirement already satisfied: PyWavelets>=1.1.1 in /usr/local/lib/python3.10/dist-packages (from scikit-image>=0.16.1->albumentations) (1.4.1)\n",
            "Requirement already satisfied: packaging>=20.0 in /usr/local/lib/python3.10/dist-packages (from scikit-image>=0.16.1->albumentations) (23.2)\n",
            "Requirement already satisfied: joblib>=1.1.1 in /usr/local/lib/python3.10/dist-packages (from scikit-learn>=0.19.1->qudida>=0.0.4->albumentations) (1.3.2)\n",
            "Requirement already satisfied: threadpoolctl>=2.0.0 in /usr/local/lib/python3.10/dist-packages (from scikit-learn>=0.19.1->qudida>=0.0.4->albumentations) (3.2.0)\n"
          ]
        }
      ]
    },
    {
      "cell_type": "code",
      "source": [
        "class MobileNet(nn.Module) :\n",
        "    def __init__(self, in_channels = 3, outputs = 6):\n",
        "        super().__init__()\n",
        "\n",
        "        self.part1 = nn.Sequential(\n",
        "            nn.Conv2d( in_channels = 3, out_channels =32, kernel_size=3, stride=2, padding=1),\n",
        "#             nn.ReLU(nn.BatchNorm2d(32)),\n",
        "\n",
        "            nn.Conv2d( in_channels = 32, out_channels =32, kernel_size=3, stride=1, padding=1),\n",
        "#             nn.ReLU(nn.BatchNorm2d(32)),\n",
        "\n",
        "            nn.Conv2d( in_channels = 32, out_channels =64, kernel_size=1, stride=1, padding=0),\n",
        "#             nn.ReLU(nn.BatchNorm2d(64)),\n",
        "\n",
        "            nn.Conv2d( in_channels = 64, out_channels =64, kernel_size=3, stride=2, padding=1),\n",
        "#             nn.ReLU(nn.BatchNorm2d(64)),\n",
        "\n",
        "            nn.Conv2d( in_channels = 64, out_channels =128, kernel_size=1, stride=1, padding=0),\n",
        "            nn.ReLU(nn.BatchNorm2d(128)),\n",
        "\n",
        "            nn.Conv2d( in_channels = 128, out_channels =128, kernel_size=3, stride=1, padding=1),\n",
        "#             nn.ReLU(nn.BatchNorm2d(128)),\n",
        "\n",
        "            nn.Conv2d( in_channels = 128, out_channels =128, kernel_size=1, stride=1, padding=0),\n",
        "#             nn.ReLU(nn.BatchNorm2d(128)),\n",
        "\n",
        "            nn.Conv2d( in_channels = 128, out_channels =128, kernel_size=3, stride=2, padding=1),\n",
        "#             nn.ReLU(nn.BatchNorm2d(128)),\n",
        "\n",
        "            nn.Conv2d( in_channels = 128, out_channels =256, kernel_size=1, stride=1, padding=0),\n",
        "#             nn.ReLU(nn.BatchNorm2d(256)),\n",
        "\n",
        "            nn.Conv2d( in_channels = 256, out_channels =256, kernel_size=3, stride=1, padding=1),\n",
        "#             nn.ReLU(nn.BatchNorm2d(256)),\n",
        "\n",
        "            nn.Conv2d( in_channels = 256, out_channels =256, kernel_size=1, stride=1, padding=0),\n",
        "#             nn.ReLU(nn.BatchNorm2d(256)),\n",
        "\n",
        "            nn.Conv2d( in_channels = 256, out_channels =256, kernel_size=3, stride=2, padding=1),\n",
        "#             nn.ReLU(nn.BatchNorm2d(256)),\n",
        "\n",
        "\n",
        "            nn.Conv2d( in_channels = 256, out_channels =512, kernel_size=1, stride=1, padding=0),\n",
        "            nn.ELU(),\n",
        "            nn.BatchNorm2d(512)\n",
        "        )\n",
        "\n",
        "\n",
        "\n",
        "            #----------------------------------------------------------------------------------------------\n",
        "\n",
        "        self.part2 = nn.Sequential(\n",
        "            nn.Conv2d( in_channels = 512, out_channels =512, kernel_size=3, stride=1, padding=1),\n",
        "#             nn.ReLU(nn.BatchNorm2d(512)),\n",
        "            nn.Conv2d( in_channels = 512, out_channels =512, kernel_size=1, stride=1, padding=0),\n",
        "#             nn.ReLU(nn.BatchNorm2d(512)),\n",
        "\n",
        "            nn.Conv2d( in_channels = 512, out_channels =512, kernel_size=3, stride=1, padding=1),\n",
        "#             nn.ReLU(nn.BatchNorm2d(512)),\n",
        "            nn.Conv2d( in_channels = 512, out_channels =512, kernel_size=1, stride=1, padding=0),\n",
        "#             nn.ReLU(nn.BatchNorm2d(512)),\n",
        "\n",
        "            nn.Conv2d( in_channels = 512, out_channels =512, kernel_size=3, stride=1, padding=1),\n",
        "#             nn.ReLU(nn.BatchNorm2d(512)),\n",
        "            nn.Conv2d( in_channels = 512, out_channels =512, kernel_size=1, stride=1, padding=0),\n",
        "            nn.ReLU(nn.BatchNorm2d(512)),\n",
        "\n",
        "            nn.Conv2d( in_channels = 512, out_channels =512, kernel_size=3, stride=1, padding=1),\n",
        "#             nn.ReLU(nn.BatchNorm2d(512)),\n",
        "            nn.Conv2d( in_channels = 512, out_channels =512, kernel_size=1, stride=1, padding=0),\n",
        "#             nn.ReLU(nn.BatchNorm2d(512)),\n",
        "\n",
        "            nn.Conv2d( in_channels = 512, out_channels =512, kernel_size=3, stride=1, padding=1),\n",
        "#             nn.ReLU(nn.BatchNorm2d(512)),\n",
        "\n",
        "            nn.Conv2d( in_channels = 512, out_channels =512, kernel_size=1, stride=1, padding=0),\n",
        "            nn.ELU(),\n",
        "            nn.BatchNorm2d(512)\n",
        "\n",
        "        )\n",
        "            #-------------------------------------------------------------------------------------------------------------\n",
        "\n",
        "        self.part3 = nn.Sequential(\n",
        "            nn.Conv2d( in_channels = 512, out_channels =512, kernel_size=3, stride=2, padding=1),\n",
        "#             nn.ReLU(nn.BatchNorm2d(512)),\n",
        "            nn.Conv2d( in_channels = 512, out_channels =1024, kernel_size=1, stride=1, padding=0),\n",
        "#             nn.ReLU(nn.BatchNorm2d(1024)),\n",
        "\n",
        "            nn.Conv2d( in_channels = 1024, out_channels =1024, kernel_size=3, stride=1, padding=1),\n",
        "#             nn.ReLU(nn.BatchNorm2d(1024)),\n",
        "\n",
        "            nn.Conv2d( in_channels = 1024, out_channels =1024, kernel_size=1, stride=1, padding=0),\n",
        "            nn.ReLU(),\n",
        "            nn.BatchNorm2d(1024)\n",
        "        )\n",
        "        self.avgpool = nn.AvgPool2d(7)\n",
        "        self.fc = nn.Linear(1024,6)\n",
        "\n",
        "    def forward(self, input):\n",
        "        input = self.part1(input)\n",
        "#         print(\"part1 output \",input.shape)\n",
        "\n",
        "        input = self.part2(input)\n",
        "#         print(input.shape)\n",
        "\n",
        "        input = self.part3(input)\n",
        "#         print(input.shape)\n",
        "\n",
        "        input = self.avgpool(input)\n",
        "#         print(input.shape)\n",
        "\n",
        "\n",
        "        input = torch.flatten(input,1)\n",
        "\n",
        "\n",
        "        input  = self.fc(input)\n",
        "#         print(input.shape)\n",
        "#         input = nn.Softmax(dim=1)\n",
        "\n",
        "        return input"
      ],
      "metadata": {
        "id": "Cq5wyM3O5OEK"
      },
      "execution_count": 3,
      "outputs": []
    },
    {
      "cell_type": "code",
      "source": [
        "from torchsummary import summary\n",
        "model = MobileNet(3, outputs = 6)\n",
        "model.to(device)\n",
        "summary(model, (3, 224, 224))"
      ],
      "metadata": {
        "colab": {
          "base_uri": "https://localhost:8080/"
        },
        "id": "u6d78EGo5YVk",
        "outputId": "633bf33d-8179-45cf-add9-ac4741fad572"
      },
      "execution_count": 4,
      "outputs": [
        {
          "output_type": "stream",
          "name": "stdout",
          "text": [
            "----------------------------------------------------------------\n",
            "        Layer (type)               Output Shape         Param #\n",
            "================================================================\n",
            "            Conv2d-1         [-1, 32, 112, 112]             896\n",
            "            Conv2d-2         [-1, 32, 112, 112]           9,248\n",
            "            Conv2d-3         [-1, 64, 112, 112]           2,112\n",
            "            Conv2d-4           [-1, 64, 56, 56]          36,928\n",
            "            Conv2d-5          [-1, 128, 56, 56]           8,320\n",
            "              ReLU-6          [-1, 128, 56, 56]               0\n",
            "            Conv2d-7          [-1, 128, 56, 56]         147,584\n",
            "            Conv2d-8          [-1, 128, 56, 56]          16,512\n",
            "            Conv2d-9          [-1, 128, 28, 28]         147,584\n",
            "           Conv2d-10          [-1, 256, 28, 28]          33,024\n",
            "           Conv2d-11          [-1, 256, 28, 28]         590,080\n",
            "           Conv2d-12          [-1, 256, 28, 28]          65,792\n",
            "           Conv2d-13          [-1, 256, 14, 14]         590,080\n",
            "           Conv2d-14          [-1, 512, 14, 14]         131,584\n",
            "              ELU-15          [-1, 512, 14, 14]               0\n",
            "      BatchNorm2d-16          [-1, 512, 14, 14]           1,024\n",
            "           Conv2d-17          [-1, 512, 14, 14]       2,359,808\n",
            "           Conv2d-18          [-1, 512, 14, 14]         262,656\n",
            "           Conv2d-19          [-1, 512, 14, 14]       2,359,808\n",
            "           Conv2d-20          [-1, 512, 14, 14]         262,656\n",
            "           Conv2d-21          [-1, 512, 14, 14]       2,359,808\n",
            "           Conv2d-22          [-1, 512, 14, 14]         262,656\n",
            "             ReLU-23          [-1, 512, 14, 14]               0\n",
            "           Conv2d-24          [-1, 512, 14, 14]       2,359,808\n",
            "           Conv2d-25          [-1, 512, 14, 14]         262,656\n",
            "           Conv2d-26          [-1, 512, 14, 14]       2,359,808\n",
            "           Conv2d-27          [-1, 512, 14, 14]         262,656\n",
            "              ELU-28          [-1, 512, 14, 14]               0\n",
            "      BatchNorm2d-29          [-1, 512, 14, 14]           1,024\n",
            "           Conv2d-30            [-1, 512, 7, 7]       2,359,808\n",
            "           Conv2d-31           [-1, 1024, 7, 7]         525,312\n",
            "           Conv2d-32           [-1, 1024, 7, 7]       9,438,208\n",
            "           Conv2d-33           [-1, 1024, 7, 7]       1,049,600\n",
            "             ReLU-34           [-1, 1024, 7, 7]               0\n",
            "      BatchNorm2d-35           [-1, 1024, 7, 7]           2,048\n",
            "        AvgPool2d-36           [-1, 1024, 1, 1]               0\n",
            "           Linear-37                    [-1, 6]           6,150\n",
            "================================================================\n",
            "Total params: 28,275,238\n",
            "Trainable params: 28,275,238\n",
            "Non-trainable params: 0\n",
            "----------------------------------------------------------------\n",
            "Input size (MB): 0.57\n",
            "Forward/backward pass size (MB): 46.14\n",
            "Params size (MB): 107.86\n",
            "Estimated Total Size (MB): 154.57\n",
            "----------------------------------------------------------------\n"
          ]
        }
      ]
    },
    {
      "cell_type": "code",
      "source": [
        "import os\n",
        "import glob\n",
        "import numpy as np\n",
        "import tqdm\n",
        "import matplotlib.pyplot as plt\n",
        "from PIL import Image\n",
        "import pandas as pd\n",
        "\n",
        "import torch\n",
        "import torch.nn as nn\n",
        "from torch.utils.data import Dataset, DataLoader\n",
        "import torch.optim as optim\n",
        "\n",
        "import torchvision\n",
        "import torchvision.models as models\n",
        "import torchvision.datasets as datasets\n",
        "import torchvision.transforms as transforms\n",
        "import albumentations as A"
      ],
      "metadata": {
        "id": "bSUfnt5_5eU1"
      },
      "execution_count": 5,
      "outputs": []
    },
    {
      "cell_type": "code",
      "source": [
        "from google.colab import drive\n",
        "drive.mount('/content/drive')"
      ],
      "metadata": {
        "colab": {
          "base_uri": "https://localhost:8080/"
        },
        "id": "0jNHCwpq53_D",
        "outputId": "359c31e5-4de9-4995-83ee-47d07cfa21eb"
      },
      "execution_count": 6,
      "outputs": [
        {
          "output_type": "stream",
          "name": "stdout",
          "text": [
            "Mounted at /content/drive\n"
          ]
        }
      ]
    },
    {
      "cell_type": "code",
      "source": [
        "%cd /content/drive/MyDrive/Garbage classification"
      ],
      "metadata": {
        "colab": {
          "base_uri": "https://localhost:8080/"
        },
        "id": "ijXR-2fC6Iui",
        "outputId": "235a002f-9c74-4edd-bf8c-8030b7df847c"
      },
      "execution_count": 7,
      "outputs": [
        {
          "output_type": "stream",
          "name": "stdout",
          "text": [
            "/content/drive/MyDrive/Garbage classification\n"
          ]
        }
      ]
    },
    {
      "cell_type": "code",
      "source": [
        "path = \"/content/drive/MyDrive/Garbage classification\"\n",
        "os.listdir(path)\n",
        "glob.glob(path+\"/*\")"
      ],
      "metadata": {
        "colab": {
          "base_uri": "https://localhost:8080/"
        },
        "id": "GfQDn6xa6WNM",
        "outputId": "fa8e891e-4811-4286-e248-b98c924b35c5"
      },
      "execution_count": 8,
      "outputs": [
        {
          "output_type": "execute_result",
          "data": {
            "text/plain": [
              "['/content/drive/MyDrive/Garbage classification/cardboard',\n",
              " '/content/drive/MyDrive/Garbage classification/trash',\n",
              " '/content/drive/MyDrive/Garbage classification/metal',\n",
              " '/content/drive/MyDrive/Garbage classification/glass',\n",
              " '/content/drive/MyDrive/Garbage classification/paper',\n",
              " '/content/drive/MyDrive/Garbage classification/plastic']"
            ]
          },
          "metadata": {},
          "execution_count": 8
        }
      ]
    },
    {
      "cell_type": "code",
      "source": [
        "folders = glob.glob(path+\"/*\")\n",
        "count = 0\n",
        "\n",
        "for i in folders:\n",
        "    count=0\n",
        "    count+=len(os.listdir(i))\n",
        "    print(i,' =  ', count)"
      ],
      "metadata": {
        "colab": {
          "base_uri": "https://localhost:8080/"
        },
        "id": "E2IqFRgk7brb",
        "outputId": "70bd24d3-f76d-4952-db2e-f0302e2ecfa8"
      },
      "execution_count": 9,
      "outputs": [
        {
          "output_type": "stream",
          "name": "stdout",
          "text": [
            "/content/drive/MyDrive/Garbage classification/cardboard  =   403\n",
            "/content/drive/MyDrive/Garbage classification/trash  =   137\n",
            "/content/drive/MyDrive/Garbage classification/metal  =   410\n",
            "/content/drive/MyDrive/Garbage classification/glass  =   501\n",
            "/content/drive/MyDrive/Garbage classification/paper  =   594\n",
            "/content/drive/MyDrive/Garbage classification/plastic  =   492\n"
          ]
        }
      ]
    },
    {
      "cell_type": "code",
      "source": [
        "transform2  = A.Compose([\n",
        "    A.HorizontalFlip(p=0.2),\n",
        "    A.RandomBrightnessContrast(brightness_limit=0.2),\n",
        "    A.VerticalFlip(p=0.2),\n",
        "    A.Rotate(0,80),\n",
        "    A.Resize(224,224),\n",
        "    A.Normalize(max_pixel_value = 255.0,p=1)\n",
        "])"
      ],
      "metadata": {
        "id": "TpcH4ejq7jnS"
      },
      "execution_count": 10,
      "outputs": []
    },
    {
      "cell_type": "code",
      "source": [
        "import cv2\n",
        "import imageio as iio\n",
        "import PIL as image\n",
        "\n",
        "class CustomDataset(Dataset):\n",
        "    def __init__(self, transform = None):\n",
        "        self.folder = path\n",
        "        folders = glob.glob(self.folder + \"/*\")\n",
        "#         print('folders',folders)\n",
        "\n",
        "        self.transform = transform\n",
        "        self.data = []\n",
        "        for class_path in folders:\n",
        "            class_name = class_path.split(\"/\")[-1]\n",
        "            for img_path in glob.glob(class_path + \"/*.jpg\"):\n",
        "                self.data.append([img_path, class_name])\n",
        "\n",
        "#         print(self.data[0])\n",
        "\n",
        "\n",
        "        self.class_map = {\n",
        "            'metal' : 0,\n",
        "            'glass' : 1,\n",
        "            'plastic' : 2,\n",
        "            'paper':3,\n",
        "            'cardboard':4,\n",
        "            'trash' :5\n",
        "\n",
        "        }\n",
        "    def __len__(self):\n",
        "        return len(self.data)\n",
        "    def __getitem__(self, idx):\n",
        "        img_path, class_name = self.data[idx]\n",
        "\n",
        "        img = cv2.imread(img_path, cv2.IMREAD_COLOR)\n",
        "        img = cv2.resize(img, (224,224))\n",
        "\n",
        "        # Augmentations\n",
        "        if self.transform is not None:\n",
        "            transformed = transform2(image = img)\n",
        "            transformed_image = transformed['image']\n",
        "            img = cv2.resize(img,(224,224))\n",
        "\n",
        "\n",
        "        class_id = self.class_map[class_name]\n",
        "        img_tensor = torch.from_numpy(img)\n",
        "        img_tensor = img_tensor.permute(2, 0, 1)\n",
        "        img_tensor = img_tensor.to(torch.float32)\n",
        "\n",
        "        class_id = class_id\n",
        "        return img_tensor, class_id"
      ],
      "metadata": {
        "id": "Awgh3gh57nmg"
      },
      "execution_count": 11,
      "outputs": []
    },
    {
      "cell_type": "code",
      "source": [
        "dataset = CustomDataset(transform = transform2)\n",
        "len(dataset) # 2527 images"
      ],
      "metadata": {
        "colab": {
          "base_uri": "https://localhost:8080/"
        },
        "id": "AluiQRcc73O4",
        "outputId": "e1657874-a3e0-4325-fc4c-5dc45b4fc0c8"
      },
      "execution_count": 12,
      "outputs": [
        {
          "output_type": "execute_result",
          "data": {
            "text/plain": [
              "2537"
            ]
          },
          "metadata": {},
          "execution_count": 12
        }
      ]
    },
    {
      "cell_type": "code",
      "source": [
        "train_dataset, val_dataset = torch.utils.data.random_split(dataset, [2237, 300])"
      ],
      "metadata": {
        "id": "zVxlmBWm770F"
      },
      "execution_count": 13,
      "outputs": []
    },
    {
      "cell_type": "code",
      "source": [
        "train_dataloader = DataLoader(train_dataset, batch_size = 64, shuffle=True, num_workers=2)\n",
        "val_dataloader = DataLoader(val_dataset, batch_size = 64, shuffle=False, num_workers=2)"
      ],
      "metadata": {
        "id": "Fsy6bQ3_8Kq8"
      },
      "execution_count": 14,
      "outputs": []
    },
    {
      "cell_type": "code",
      "source": [
        "for i, (j,k) in enumerate(val_dataloader):\n",
        "    print(k)"
      ],
      "metadata": {
        "colab": {
          "base_uri": "https://localhost:8080/"
        },
        "id": "VliDPZ_Y8MWN",
        "outputId": "29d11a49-d5e4-4e9a-d0d9-6d30a59e1462"
      },
      "execution_count": 15,
      "outputs": [
        {
          "output_type": "stream",
          "name": "stdout",
          "text": [
            "tensor([3, 1, 2, 3, 4, 0, 2, 1, 4, 3, 2, 2, 2, 5, 4, 0, 1, 1, 0, 5, 2, 3, 5, 4,\n",
            "        3, 1, 1, 4, 1, 3, 1, 1, 4, 4, 2, 4, 2, 3, 1, 3, 4, 2, 4, 0, 2, 2, 2, 4,\n",
            "        1, 1, 1, 0, 2, 5, 2, 1, 0, 3, 3, 0, 5, 1, 2, 1])\n",
            "tensor([1, 1, 1, 1, 3, 5, 3, 2, 3, 0, 0, 3, 0, 1, 4, 1, 2, 0, 4, 4, 0, 2, 4, 4,\n",
            "        1, 0, 4, 0, 5, 2, 1, 1, 3, 2, 0, 2, 1, 3, 0, 3, 2, 1, 5, 2, 0, 3, 4, 0,\n",
            "        0, 1, 2, 4, 0, 4, 2, 4, 1, 2, 2, 2, 2, 3, 1, 0])\n",
            "tensor([3, 0, 3, 1, 0, 3, 0, 2, 1, 5, 1, 4, 2, 2, 3, 1, 0, 3, 0, 3, 0, 0, 3, 1,\n",
            "        5, 1, 0, 3, 4, 4, 4, 1, 3, 3, 0, 3, 3, 0, 4, 4, 0, 1, 0, 4, 2, 2, 3, 3,\n",
            "        3, 0, 0, 2, 3, 0, 4, 3, 0, 3, 4, 1, 0, 0, 1, 0])\n",
            "tensor([2, 2, 0, 1, 2, 3, 4, 5, 1, 1, 4, 2, 3, 0, 4, 3, 1, 3, 1, 1, 1, 3, 1, 2,\n",
            "        3, 1, 4, 1, 1, 2, 1, 5, 0, 1, 2, 4, 4, 1, 3, 4, 1, 2, 3, 3, 3, 3, 3, 0,\n",
            "        3, 1, 4, 3, 5, 3, 0, 3, 1, 1, 2, 1, 3, 0, 1, 1])\n",
            "tensor([5, 5, 4, 1, 0, 2, 1, 2, 0, 2, 1, 2, 3, 1, 0, 1, 4, 2, 2, 4, 2, 3, 0, 3,\n",
            "        0, 3, 3, 3, 3, 1, 0, 2, 3, 4, 3, 1, 1, 0, 1, 2, 3, 3, 4, 0])\n"
          ]
        }
      ]
    },
    {
      "cell_type": "code",
      "source": [
        "mobile_net = MobileNet(3,6)\n",
        "mobile_net.to(device)"
      ],
      "metadata": {
        "colab": {
          "base_uri": "https://localhost:8080/"
        },
        "id": "vTsEso-c8V3v",
        "outputId": "e2e02a89-77f5-4ee5-9bed-98424947abc9"
      },
      "execution_count": 16,
      "outputs": [
        {
          "output_type": "execute_result",
          "data": {
            "text/plain": [
              "MobileNet(\n",
              "  (part1): Sequential(\n",
              "    (0): Conv2d(3, 32, kernel_size=(3, 3), stride=(2, 2), padding=(1, 1))\n",
              "    (1): Conv2d(32, 32, kernel_size=(3, 3), stride=(1, 1), padding=(1, 1))\n",
              "    (2): Conv2d(32, 64, kernel_size=(1, 1), stride=(1, 1))\n",
              "    (3): Conv2d(64, 64, kernel_size=(3, 3), stride=(2, 2), padding=(1, 1))\n",
              "    (4): Conv2d(64, 128, kernel_size=(1, 1), stride=(1, 1))\n",
              "    (5): ReLU(\n",
              "      inplace=True\n",
              "      (inplace): BatchNorm2d(128, eps=1e-05, momentum=0.1, affine=True, track_running_stats=True)\n",
              "    )\n",
              "    (6): Conv2d(128, 128, kernel_size=(3, 3), stride=(1, 1), padding=(1, 1))\n",
              "    (7): Conv2d(128, 128, kernel_size=(1, 1), stride=(1, 1))\n",
              "    (8): Conv2d(128, 128, kernel_size=(3, 3), stride=(2, 2), padding=(1, 1))\n",
              "    (9): Conv2d(128, 256, kernel_size=(1, 1), stride=(1, 1))\n",
              "    (10): Conv2d(256, 256, kernel_size=(3, 3), stride=(1, 1), padding=(1, 1))\n",
              "    (11): Conv2d(256, 256, kernel_size=(1, 1), stride=(1, 1))\n",
              "    (12): Conv2d(256, 256, kernel_size=(3, 3), stride=(2, 2), padding=(1, 1))\n",
              "    (13): Conv2d(256, 512, kernel_size=(1, 1), stride=(1, 1))\n",
              "    (14): ELU(alpha=1.0)\n",
              "    (15): BatchNorm2d(512, eps=1e-05, momentum=0.1, affine=True, track_running_stats=True)\n",
              "  )\n",
              "  (part2): Sequential(\n",
              "    (0): Conv2d(512, 512, kernel_size=(3, 3), stride=(1, 1), padding=(1, 1))\n",
              "    (1): Conv2d(512, 512, kernel_size=(1, 1), stride=(1, 1))\n",
              "    (2): Conv2d(512, 512, kernel_size=(3, 3), stride=(1, 1), padding=(1, 1))\n",
              "    (3): Conv2d(512, 512, kernel_size=(1, 1), stride=(1, 1))\n",
              "    (4): Conv2d(512, 512, kernel_size=(3, 3), stride=(1, 1), padding=(1, 1))\n",
              "    (5): Conv2d(512, 512, kernel_size=(1, 1), stride=(1, 1))\n",
              "    (6): ReLU(\n",
              "      inplace=True\n",
              "      (inplace): BatchNorm2d(512, eps=1e-05, momentum=0.1, affine=True, track_running_stats=True)\n",
              "    )\n",
              "    (7): Conv2d(512, 512, kernel_size=(3, 3), stride=(1, 1), padding=(1, 1))\n",
              "    (8): Conv2d(512, 512, kernel_size=(1, 1), stride=(1, 1))\n",
              "    (9): Conv2d(512, 512, kernel_size=(3, 3), stride=(1, 1), padding=(1, 1))\n",
              "    (10): Conv2d(512, 512, kernel_size=(1, 1), stride=(1, 1))\n",
              "    (11): ELU(alpha=1.0)\n",
              "    (12): BatchNorm2d(512, eps=1e-05, momentum=0.1, affine=True, track_running_stats=True)\n",
              "  )\n",
              "  (part3): Sequential(\n",
              "    (0): Conv2d(512, 512, kernel_size=(3, 3), stride=(2, 2), padding=(1, 1))\n",
              "    (1): Conv2d(512, 1024, kernel_size=(1, 1), stride=(1, 1))\n",
              "    (2): Conv2d(1024, 1024, kernel_size=(3, 3), stride=(1, 1), padding=(1, 1))\n",
              "    (3): Conv2d(1024, 1024, kernel_size=(1, 1), stride=(1, 1))\n",
              "    (4): ReLU()\n",
              "    (5): BatchNorm2d(1024, eps=1e-05, momentum=0.1, affine=True, track_running_stats=True)\n",
              "  )\n",
              "  (avgpool): AvgPool2d(kernel_size=7, stride=7, padding=0)\n",
              "  (fc): Linear(in_features=1024, out_features=6, bias=True)\n",
              ")"
            ]
          },
          "metadata": {},
          "execution_count": 16
        }
      ]
    },
    {
      "cell_type": "code",
      "source": [
        "criterion = nn.CrossEntropyLoss()\n",
        "optimizer = optim.Adam(mobile_net.parameters(), lr=0.0001)\n",
        "scheduler = torch.optim.lr_scheduler.ReduceLROnPlateau(optimizer, mode='min', factor=0.05, patience=5, verbose=True)"
      ],
      "metadata": {
        "id": "0Sm4Ddb58Yvv"
      },
      "execution_count": 21,
      "outputs": []
    },
    {
      "cell_type": "code",
      "source": [
        "import time\n",
        "def evaluate_model(model, dataloader, device):\n",
        "    model.eval()  # for batch normalization layers\n",
        "    corrects = 0\n",
        "    y_pred = []\n",
        "    y_true = []\n",
        "\n",
        "    with torch.no_grad():\n",
        "        for inputs, targets in dataloader:\n",
        "            inputs, targets = inputs.to(device), targets.to(device)\n",
        "            outputs = model(inputs)\n",
        "            _, preds = torch.max(outputs, 1)\n",
        "            corrects += (preds == targets.data).sum()\n",
        "\n",
        "\n",
        "\n",
        "            output = (torch.max(torch.exp(outputs), 1)[1]).data.cpu().numpy()\n",
        "            y_pred.extend(output) # Save Prediction\n",
        "\n",
        "            labels = targets.data.cpu().numpy()\n",
        "            y_true.extend(labels) # Save Truth\n",
        "\n",
        "\n",
        "    print('Accuracy: {:.2f}'.format(100. * corrects / len(dataloader.dataset)))\n",
        "    return y_pred, y_true"
      ],
      "metadata": {
        "id": "I_Vceb9V8ci_"
      },
      "execution_count": 22,
      "outputs": []
    },
    {
      "cell_type": "code",
      "source": [
        "t0 = time.time()\n",
        "mobile_net_num_epochs = 50\n",
        "mobile_net_val_losses = []\n",
        "mobile_net_train_losses = []\n",
        "\n",
        "mobile_net.train()\n",
        "for epoch in range(mobile_net_num_epochs):\n",
        "    train_loss= 0.0\n",
        "    for i, (inputs,targets) in enumerate(train_dataloader):\n",
        "\n",
        "        inputs = inputs.to(device)\n",
        "        targets = targets.to(device)\n",
        "\n",
        "        outputs = mobile_net(inputs)\n",
        "\n",
        "        optimizer.zero_grad()\n",
        "\n",
        "        train_loss = criterion(outputs, targets)\n",
        "        # print(train_loss.item())\n",
        "\n",
        "            # backward pass\n",
        "\n",
        "        train_loss.backward()\n",
        "\n",
        "            # update parameters\n",
        "        optimizer.step()\n",
        "    mobile_net_train_losses.append(train_loss.item())\n",
        "\n",
        "    mobile_net.eval()\n",
        "\n",
        "    val_loss = 0.0\n",
        "    for i, (inputs, targets) in enumerate(val_dataloader):\n",
        "        inputs = inputs.to(device)\n",
        "        targets = targets.to(device)\n",
        "\n",
        "            # forward pass\n",
        "        outputs = mobile_net(inputs)\n",
        "\n",
        "        val_loss = criterion(outputs, targets)\n",
        "\n",
        "    mobile_net_val_losses.append(val_loss.item())\n",
        "\n",
        "\n",
        "    scheduler.step(val_loss)\n",
        "\n",
        "    print('training Loss at epoch ', epoch+1 , \"=\" ,train_loss.item())\n",
        "    print('validation Loss at epoch ', epoch+1 , \"=\" ,val_loss.item())\n",
        "    evaluate_model(mobile_net, val_dataloader, device)\n",
        "\n",
        "t1 = time.time()\n",
        "print(\"Total time taken \" ,(t1-t0)/60 )"
      ],
      "metadata": {
        "colab": {
          "base_uri": "https://localhost:8080/"
        },
        "id": "TTEGu-ju8hZ_",
        "outputId": "11d4aa64-ee5a-4dd1-ae15-69fe6dc4c9ea"
      },
      "execution_count": 23,
      "outputs": [
        {
          "output_type": "stream",
          "name": "stderr",
          "text": [
            "Exception ignored in: <function _MultiProcessingDataLoaderIter.__del__ at 0x7c2449b936d0>\n",
            "Traceback (most recent call last):\n",
            "Exception ignored in:   File \"/usr/local/lib/python3.10/dist-packages/torch/utils/data/dataloader.py\", line 1478, in __del__\n",
            "<function _MultiProcessingDataLoaderIter.__del__ at 0x7c2449b936d0>    \n",
            "self._shutdown_workers()Traceback (most recent call last):\n",
            "  File \"/usr/local/lib/python3.10/dist-packages/torch/utils/data/dataloader.py\", line 1478, in __del__\n",
            "\n",
            "    self._shutdown_workers()  File \"/usr/local/lib/python3.10/dist-packages/torch/utils/data/dataloader.py\", line 1461, in _shutdown_workers\n",
            "    if w.is_alive():\n",
            "  File \"/usr/lib/python3.10/multiprocessing/process.py\", line 160, in is_alive\n",
            "    assert self._parent_pid == os.getpid(), 'can only test a child process'\n",
            "  File \"/usr/local/lib/python3.10/dist-packages/torch/utils/data/dataloader.py\", line 1461, in _shutdown_workers\n",
            "\n",
            "    if w.is_alive():\n",
            "  File \"/usr/lib/python3.10/multiprocessing/process.py\", line 160, in is_alive\n",
            "AssertionError    assert self._parent_pid == os.getpid(), 'can only test a child process': can only test a child process\n",
            "\n",
            "AssertionError: can only test a child process\n"
          ]
        },
        {
          "output_type": "stream",
          "name": "stdout",
          "text": [
            "training Loss at epoch  1 = 1.3782764673233032\n",
            "validation Loss at epoch  1 = 2.4230358600616455\n",
            "Accuracy: 20.33\n",
            "training Loss at epoch  2 = 1.5940454006195068\n",
            "validation Loss at epoch  2 = 1.6428894996643066\n",
            "Accuracy: 24.67\n",
            "training Loss at epoch  3 = 1.501265048980713\n",
            "validation Loss at epoch  3 = 1.4929035902023315\n",
            "Accuracy: 32.67\n",
            "training Loss at epoch  4 = 1.4491270780563354\n",
            "validation Loss at epoch  4 = 1.304293155670166\n",
            "Accuracy: 42.00\n",
            "training Loss at epoch  5 = 1.5525693893432617\n",
            "validation Loss at epoch  5 = 1.467589259147644\n",
            "Accuracy: 31.00\n",
            "training Loss at epoch  6 = 1.5366867780685425\n",
            "validation Loss at epoch  6 = 1.2331563234329224\n",
            "Accuracy: 45.33\n",
            "training Loss at epoch  7 = 1.3383996486663818\n",
            "validation Loss at epoch  7 = 1.2760928869247437\n",
            "Accuracy: 41.67\n",
            "training Loss at epoch  8 = 1.410335898399353\n",
            "validation Loss at epoch  8 = 1.4051663875579834\n",
            "Accuracy: 38.33\n",
            "training Loss at epoch  9 = 1.2757620811462402\n",
            "validation Loss at epoch  9 = 1.3634499311447144\n",
            "Accuracy: 44.33\n",
            "training Loss at epoch  10 = 1.2955491542816162\n",
            "validation Loss at epoch  10 = 1.2286875247955322\n",
            "Accuracy: 46.67\n",
            "training Loss at epoch  11 = 1.2528070211410522\n",
            "validation Loss at epoch  11 = 1.229910969734192\n",
            "Accuracy: 50.00\n",
            "training Loss at epoch  12 = 1.3551594018936157\n",
            "validation Loss at epoch  12 = 1.2705572843551636\n",
            "Accuracy: 47.33\n",
            "training Loss at epoch  13 = 1.2825251817703247\n",
            "validation Loss at epoch  13 = 1.2716975212097168\n",
            "Accuracy: 48.33\n",
            "training Loss at epoch  14 = 1.0697717666625977\n",
            "validation Loss at epoch  14 = 1.542768120765686\n",
            "Accuracy: 48.00\n",
            "training Loss at epoch  15 = 1.4322396516799927\n",
            "validation Loss at epoch  15 = 1.29228937625885\n",
            "Accuracy: 48.67\n",
            "Epoch 00016: reducing learning rate of group 0 to 5.0000e-06.\n",
            "training Loss at epoch  16 = 1.079085111618042\n",
            "validation Loss at epoch  16 = 1.3346813917160034\n",
            "Accuracy: 49.67\n",
            "training Loss at epoch  17 = 0.9434018135070801\n",
            "validation Loss at epoch  17 = 1.1125346422195435\n",
            "Accuracy: 57.00\n",
            "training Loss at epoch  18 = 1.1363288164138794\n",
            "validation Loss at epoch  18 = 1.0985312461853027\n",
            "Accuracy: 57.67\n",
            "training Loss at epoch  19 = 0.9507139325141907\n",
            "validation Loss at epoch  19 = 1.074899673461914\n",
            "Accuracy: 56.67\n",
            "training Loss at epoch  20 = 0.8128045797348022\n",
            "validation Loss at epoch  20 = 1.0701220035552979\n",
            "Accuracy: 59.00\n",
            "training Loss at epoch  21 = 1.0044746398925781\n",
            "validation Loss at epoch  21 = 1.0860698223114014\n",
            "Accuracy: 59.67\n",
            "training Loss at epoch  22 = 1.075249433517456\n",
            "validation Loss at epoch  22 = 1.107922911643982\n",
            "Accuracy: 58.67\n",
            "training Loss at epoch  23 = 1.077697992324829\n",
            "validation Loss at epoch  23 = 1.0715084075927734\n",
            "Accuracy: 59.33\n",
            "training Loss at epoch  24 = 1.0078049898147583\n",
            "validation Loss at epoch  24 = 1.0920265913009644\n",
            "Accuracy: 57.67\n",
            "training Loss at epoch  25 = 0.8652434349060059\n",
            "validation Loss at epoch  25 = 1.0702935457229614\n",
            "Accuracy: 59.00\n",
            "Epoch 00026: reducing learning rate of group 0 to 2.5000e-07.\n",
            "training Loss at epoch  26 = 0.7664905190467834\n",
            "validation Loss at epoch  26 = 1.0899866819381714\n",
            "Accuracy: 60.00\n",
            "training Loss at epoch  27 = 0.9022389650344849\n",
            "validation Loss at epoch  27 = 1.0920733213424683\n",
            "Accuracy: 60.00\n",
            "training Loss at epoch  28 = 1.0154474973678589\n",
            "validation Loss at epoch  28 = 1.0931423902511597\n",
            "Accuracy: 60.00\n",
            "training Loss at epoch  29 = 0.8928556442260742\n",
            "validation Loss at epoch  29 = 1.089806318283081\n",
            "Accuracy: 60.00\n",
            "training Loss at epoch  30 = 1.087273120880127\n",
            "validation Loss at epoch  30 = 1.0902835130691528\n",
            "Accuracy: 60.00\n",
            "training Loss at epoch  31 = 0.9577682614326477\n",
            "validation Loss at epoch  31 = 1.0880366563796997\n",
            "Accuracy: 60.00\n",
            "Epoch 00032: reducing learning rate of group 0 to 1.2500e-08.\n",
            "training Loss at epoch  32 = 0.9473751187324524\n",
            "validation Loss at epoch  32 = 1.0886003971099854\n",
            "Accuracy: 60.00\n",
            "training Loss at epoch  33 = 0.877434253692627\n",
            "validation Loss at epoch  33 = 1.0888420343399048\n",
            "Accuracy: 60.00\n",
            "training Loss at epoch  34 = 1.0497390031814575\n",
            "validation Loss at epoch  34 = 1.0887631177902222\n",
            "Accuracy: 60.00\n",
            "training Loss at epoch  35 = 0.8338388800621033\n",
            "validation Loss at epoch  35 = 1.088908314704895\n",
            "Accuracy: 60.00\n",
            "training Loss at epoch  36 = 0.774388313293457\n",
            "validation Loss at epoch  36 = 1.0891896486282349\n",
            "Accuracy: 60.00\n",
            "training Loss at epoch  37 = 0.8836953043937683\n",
            "validation Loss at epoch  37 = 1.0891276597976685\n",
            "Accuracy: 60.00\n",
            "Epoch 00038: reducing learning rate of group 0 to 6.2500e-10.\n",
            "training Loss at epoch  38 = 0.9450362324714661\n",
            "validation Loss at epoch  38 = 1.089154839515686\n",
            "Accuracy: 60.00\n",
            "training Loss at epoch  39 = 0.8532701134681702\n",
            "validation Loss at epoch  39 = 1.089155673980713\n",
            "Accuracy: 60.00\n",
            "training Loss at epoch  40 = 0.8304393291473389\n",
            "validation Loss at epoch  40 = 1.0891578197479248\n",
            "Accuracy: 60.00\n",
            "training Loss at epoch  41 = 0.8667048215866089\n",
            "validation Loss at epoch  41 = 1.089159607887268\n",
            "Accuracy: 60.00\n",
            "training Loss at epoch  42 = 0.9308077692985535\n",
            "validation Loss at epoch  42 = 1.0891603231430054\n",
            "Accuracy: 60.00\n",
            "training Loss at epoch  43 = 0.8505504131317139\n",
            "validation Loss at epoch  43 = 1.0891588926315308\n",
            "Accuracy: 60.00\n",
            "training Loss at epoch  44 = 0.9265536069869995\n",
            "validation Loss at epoch  44 = 1.0891594886779785\n",
            "Accuracy: 60.00\n",
            "training Loss at epoch  45 = 0.9038960933685303\n",
            "validation Loss at epoch  45 = 1.0891598463058472\n",
            "Accuracy: 60.00\n",
            "training Loss at epoch  46 = 0.9894328117370605\n",
            "validation Loss at epoch  46 = 1.0891624689102173\n",
            "Accuracy: 60.00\n",
            "training Loss at epoch  47 = 1.0904203653335571\n",
            "validation Loss at epoch  47 = 1.0891627073287964\n",
            "Accuracy: 60.00\n",
            "training Loss at epoch  48 = 0.8432624936103821\n",
            "validation Loss at epoch  48 = 1.0891636610031128\n",
            "Accuracy: 60.00\n",
            "training Loss at epoch  49 = 0.8916330337524414\n",
            "validation Loss at epoch  49 = 1.0891660451889038\n",
            "Accuracy: 60.00\n",
            "training Loss at epoch  50 = 0.7935928702354431\n",
            "validation Loss at epoch  50 = 1.0891622304916382\n",
            "Accuracy: 60.00\n",
            "Total time taken  15.356648536523183\n"
          ]
        }
      ]
    },
    {
      "cell_type": "code",
      "source": [
        "def plot_train_curve(train_losses):\n",
        "    plt.figure(figsize=(10, 4))\n",
        "    plt.plot(train_losses)\n",
        "    plt.xlabel('Iteration')\n",
        "    plt.ylabel('Training loss')\n",
        "    plt.title('NLL Loss')\n",
        "    plt.show()"
      ],
      "metadata": {
        "id": "PksgzCAp_1sV"
      },
      "execution_count": 24,
      "outputs": []
    },
    {
      "cell_type": "code",
      "source": [
        "def plot_val_curve(val_losses):\n",
        "    plt.figure(figsize = (10,4))\n",
        "    plt.plot(val_losses)\n",
        "    plt.xlabel('Iteration')\n",
        "    plt.ylabel('Validation loss')\n",
        "    plt.title('NLL Loss')\n",
        "    plt.show()"
      ],
      "metadata": {
        "id": "fEU10O3F_2VR"
      },
      "execution_count": 25,
      "outputs": []
    },
    {
      "cell_type": "code",
      "source": [
        "plot_train_curve(mobile_net_train_losses)\n",
        "plot_val_curve(mobile_net_val_losses)"
      ],
      "metadata": {
        "colab": {
          "base_uri": "https://localhost:8080/",
          "height": 803
        },
        "id": "Gn6qATmg_7JD",
        "outputId": "2f74d79a-6a7f-455b-813b-e821a566fa0e"
      },
      "execution_count": 26,
      "outputs": [
        {
          "output_type": "display_data",
          "data": {
            "text/plain": [
              "<Figure size 1000x400 with 1 Axes>"
            ],
            "image/png": "[encoded data removed]"
          },
          "metadata": {}
        },
        {
          "output_type": "display_data",
          "data": {
            "text/plain": [
              "<Figure size 1000x400 with 1 Axes>"
            ],
            "image/png": "[encoded data removed]"
          },
          "metadata": {}
        }
      ]
    },
    {
      "cell_type": "code",
      "source": [
        "classes = {\n",
        "            'metal' : 0,\n",
        "            'glass' : 1,\n",
        "            'plastic' : 2,\n",
        "            'paper':3,\n",
        "            'cardboard':4,\n",
        "            'trash' :5\n",
        "          }"
      ],
      "metadata": {
        "id": "4DLMBwUb_9Gx"
      },
      "execution_count": 27,
      "outputs": []
    },
    {
      "cell_type": "code",
      "source": [
        "train_y_pred, train_y_true = evaluate_model(mobile_net, train_dataloader, device)"
      ],
      "metadata": {
        "colab": {
          "base_uri": "https://localhost:8080/"
        },
        "id": "3OLeSMlz_9nH",
        "outputId": "f096c28d-d282-487b-ede6-7733eb128b98"
      },
      "execution_count": 28,
      "outputs": [
        {
          "output_type": "stream",
          "name": "stdout",
          "text": [
            "Accuracy: 65.22\n"
          ]
        }
      ]
    },
    {
      "cell_type": "code",
      "source": [
        "y_pred, y_true = evaluate_model(mobile_net, val_dataloader, device)"
      ],
      "metadata": {
        "colab": {
          "base_uri": "https://localhost:8080/"
        },
        "id": "slSHYXtpAC9q",
        "outputId": "20e91c7a-3568-4eea-c3e1-c70b14734fb6"
      },
      "execution_count": 29,
      "outputs": [
        {
          "output_type": "stream",
          "name": "stdout",
          "text": [
            "Accuracy: 60.00\n"
          ]
        }
      ]
    },
    {
      "cell_type": "code",
      "source": [
        "from sklearn.metrics import confusion_matrix\n",
        "import seaborn as sn\n",
        "\n",
        "cf_matrix = confusion_matrix(y_true, y_pred)\n",
        "df_cm = pd.DataFrame(cf_matrix / np.sum(cf_matrix, axis=1), index = [i for i in classes],\n",
        "                     columns = [i for i in classes])\n",
        "plt.figure(figsize = (12,7))\n",
        "sn.heatmap(df_cm, annot=True)\n",
        "plt.savefig('output.png')"
      ],
      "metadata": {
        "colab": {
          "base_uri": "https://localhost:8080/",
          "height": 599
        },
        "id": "AUOMnzDTAFWc",
        "outputId": "638a8241-6153-4009-a87b-e1f9d7d6749e"
      },
      "execution_count": 30,
      "outputs": [
        {
          "output_type": "display_data",
          "data": {
            "text/plain": [
              "<Figure size 1200x700 with 2 Axes>"
            ],
            "image/png": "[encoded data removed]"
          },
          "metadata": {}
        }
      ]
    }
  ]
}